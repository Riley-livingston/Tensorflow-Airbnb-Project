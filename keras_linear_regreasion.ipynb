{
 "cells": [
  {
   "attachments": {},
   "cell_type": "markdown",
   "metadata": {},
   "source": [
    "\n",
    "<strong><center>Created by Riley Livingston @ https://github.com/Riley-livingston </center></strong>"
   ]
  },
  {
   "attachments": {},
   "cell_type": "markdown",
   "metadata": {},
   "source": [
    "### Predicting Airbnb Listings Prices/Night in NYC - Neural Networks, TensorFLow's Keras API"
   ]
  },
  {
   "attachments": {},
   "cell_type": "markdown",
   "metadata": {},
   "source": [
    "All Data sources and Data Info can be found here - http://insideairbnb.com/"
   ]
  },
  {
   "attachments": {},
   "cell_type": "markdown",
   "metadata": {},
   "source": [
    "### Creating a searchable dictionary for dataset feature descriptions and initial package imports"
   ]
  },
  {
   "cell_type": "code",
   "execution_count": 1,
   "metadata": {},
   "outputs": [],
   "source": [
    "import pandas as pd\n",
    "import numpy as np\n",
    "import matplotlib.pyplot as plt\n",
    "import seaborn as sns"
   ]
  },
  {
   "cell_type": "code",
   "execution_count": 2,
   "metadata": {},
   "outputs": [],
   "source": [
    "data_info = pd.read_csv(\"C:\\\\Users\\\\riley\\\\OneDrive\\Desktop\\\\Data Portfolio Project\\\\airbnb_price_predictions\\\\airbnb_data\\\\Airbnb Data Dictionary.csv\", index_col='Field')"
   ]
  },
  {
   "cell_type": "code",
   "execution_count": 3,
   "metadata": {},
   "outputs": [
    {
     "name": "stdout",
     "output_type": "stream",
     "text": [
      "Airbnb's unique identifier for the listing\n"
     ]
    }
   ],
   "source": [
    "print(data_info.loc['id']['Description'])"
   ]
  },
  {
   "cell_type": "code",
   "execution_count": 4,
   "metadata": {},
   "outputs": [],
   "source": [
    "def feat_info(col_name):\n",
    "     '''Feed feature name as the argument. Returns the description of the feature.'''\n",
    "     print(data_info.loc[col_name]['Description'])"
   ]
  },
  {
   "cell_type": "code",
   "execution_count": 5,
   "metadata": {},
   "outputs": [
    {
     "name": "stdout",
     "output_type": "stream",
     "text": [
      "daily price in local currency\n"
     ]
    }
   ],
   "source": [
    "feat_info('price')"
   ]
  },
  {
   "attachments": {},
   "cell_type": "markdown",
   "metadata": {},
   "source": [
    " ### Converting the CSV file into a Pandas DataFrame"
   ]
  },
  {
   "cell_type": "code",
   "execution_count": 6,
   "metadata": {},
   "outputs": [
    {
     "name": "stderr",
     "output_type": "stream",
     "text": [
      "C:\\Users\\riley\\AppData\\Local\\Temp\\ipykernel_5520\\3522405283.py:1: DtypeWarning: Columns (68) have mixed types. Specify dtype option on import or set low_memory=False.\n",
      "  df = pd.read_csv(\"C:\\\\Users\\\\riley\\\\OneDrive\\Desktop\\\\Data Portfolio Project\\\\airbnb_price_predictions\\\\airbnb_data\\\\listings.csv\")\n"
     ]
    }
   ],
   "source": [
    "df = pd.read_csv(\"C:\\\\Users\\\\riley\\\\OneDrive\\Desktop\\\\Data Portfolio Project\\\\airbnb_price_predictions\\\\airbnb_data\\\\listings.csv\")"
   ]
  },
  {
   "attachments": {},
   "cell_type": "markdown",
   "metadata": {},
   "source": [
    "### Data Cleaning and Exploration"
   ]
  },
  {
   "cell_type": "code",
   "execution_count": 7,
   "metadata": {},
   "outputs": [
    {
     "name": "stdout",
     "output_type": "stream",
     "text": [
      "<class 'pandas.core.frame.DataFrame'>\n",
      "RangeIndex: 39881 entries, 0 to 39880\n",
      "Data columns (total 75 columns):\n",
      " #   Column                                        Non-Null Count  Dtype  \n",
      "---  ------                                        --------------  -----  \n",
      " 0   id                                            39881 non-null  int64  \n",
      " 1   listing_url                                   39881 non-null  object \n",
      " 2   scrape_id                                     39881 non-null  int64  \n",
      " 3   last_scraped                                  39881 non-null  object \n",
      " 4   source                                        39881 non-null  object \n",
      " 5   name                                          39868 non-null  object \n",
      " 6   description                                   39036 non-null  object \n",
      " 7   neighborhood_overview                         23466 non-null  object \n",
      " 8   picture_url                                   39881 non-null  object \n",
      " 9   host_id                                       39881 non-null  int64  \n",
      " 10  host_url                                      39881 non-null  object \n",
      " 11  host_name                                     39831 non-null  object \n",
      " 12  host_since                                    39831 non-null  object \n",
      " 13  host_location                                 32998 non-null  object \n",
      " 14  host_about                                    22509 non-null  object \n",
      " 15  host_response_time                            26333 non-null  object \n",
      " 16  host_response_rate                            26333 non-null  object \n",
      " 17  host_acceptance_rate                          28020 non-null  object \n",
      " 18  host_is_superhost                             39852 non-null  object \n",
      " 19  host_thumbnail_url                            39831 non-null  object \n",
      " 20  host_picture_url                              39831 non-null  object \n",
      " 21  host_neighbourhood                            31650 non-null  object \n",
      " 22  host_listings_count                           39831 non-null  float64\n",
      " 23  host_total_listings_count                     39831 non-null  float64\n",
      " 24  host_verifications                            39881 non-null  object \n",
      " 25  host_has_profile_pic                          39831 non-null  object \n",
      " 26  host_identity_verified                        39831 non-null  object \n",
      " 27  neighbourhood                                 23467 non-null  object \n",
      " 28  neighbourhood_cleansed                        39881 non-null  object \n",
      " 29  neighbourhood_group_cleansed                  39881 non-null  object \n",
      " 30  latitude                                      39881 non-null  float64\n",
      " 31  longitude                                     39881 non-null  float64\n",
      " 32  property_type                                 39881 non-null  object \n",
      " 33  room_type                                     39881 non-null  object \n",
      " 34  accommodates                                  39881 non-null  int64  \n",
      " 35  bathrooms                                     0 non-null      float64\n",
      " 36  bathrooms_text                                39797 non-null  object \n",
      " 37  bedrooms                                      36098 non-null  float64\n",
      " 38  beds                                          38997 non-null  float64\n",
      " 39  amenities                                     39881 non-null  object \n",
      " 40  price                                         39881 non-null  object \n",
      " 41  minimum_nights                                39881 non-null  int64  \n",
      " 42  maximum_nights                                39881 non-null  int64  \n",
      " 43  minimum_minimum_nights                        39867 non-null  float64\n",
      " 44  maximum_minimum_nights                        39867 non-null  float64\n",
      " 45  minimum_maximum_nights                        39867 non-null  float64\n",
      " 46  maximum_maximum_nights                        39867 non-null  float64\n",
      " 47  minimum_nights_avg_ntm                        39867 non-null  float64\n",
      " 48  maximum_nights_avg_ntm                        39867 non-null  float64\n",
      " 49  calendar_updated                              0 non-null      float64\n",
      " 50  has_availability                              39881 non-null  object \n",
      " 51  availability_30                               39881 non-null  int64  \n",
      " 52  availability_60                               39881 non-null  int64  \n",
      " 53  availability_90                               39881 non-null  int64  \n",
      " 54  availability_365                              39881 non-null  int64  \n",
      " 55  calendar_last_scraped                         39881 non-null  object \n",
      " 56  number_of_reviews                             39881 non-null  int64  \n",
      " 57  number_of_reviews_ltm                         39881 non-null  int64  \n",
      " 58  number_of_reviews_l30d                        39881 non-null  int64  \n",
      " 59  first_review                                  31519 non-null  object \n",
      " 60  last_review                                   31519 non-null  object \n",
      " 61  review_scores_rating                          31519 non-null  float64\n",
      " 62  review_scores_accuracy                        31056 non-null  float64\n",
      " 63  review_scores_cleanliness                     31066 non-null  float64\n",
      " 64  review_scores_checkin                         31052 non-null  float64\n",
      " 65  review_scores_communication                   31061 non-null  float64\n",
      " 66  review_scores_location                        31049 non-null  float64\n",
      " 67  review_scores_value                           31049 non-null  float64\n",
      " 68  license                                       5 non-null      object \n",
      " 69  instant_bookable                              39881 non-null  object \n",
      " 70  calculated_host_listings_count                39881 non-null  int64  \n",
      " 71  calculated_host_listings_count_entire_homes   39881 non-null  int64  \n",
      " 72  calculated_host_listings_count_private_rooms  39881 non-null  int64  \n",
      " 73  calculated_host_listings_count_shared_rooms   39881 non-null  int64  \n",
      " 74  reviews_per_month                             31519 non-null  float64\n",
      "dtypes: float64(22), int64(17), object(36)\n",
      "memory usage: 22.8+ MB\n"
     ]
    }
   ],
   "source": [
    "df.info()"
   ]
  },
  {
   "cell_type": "code",
   "execution_count": 8,
   "metadata": {},
   "outputs": [
    {
     "data": {
      "text/html": [
       "<div>\n",
       "<style scoped>\n",
       "    .dataframe tbody tr th:only-of-type {\n",
       "        vertical-align: middle;\n",
       "    }\n",
       "\n",
       "    .dataframe tbody tr th {\n",
       "        vertical-align: top;\n",
       "    }\n",
       "\n",
       "    .dataframe thead th {\n",
       "        text-align: right;\n",
       "    }\n",
       "</style>\n",
       "<table border=\"1\" class=\"dataframe\">\n",
       "  <thead>\n",
       "    <tr style=\"text-align: right;\">\n",
       "      <th></th>\n",
       "      <th>id</th>\n",
       "      <th>listing_url</th>\n",
       "      <th>scrape_id</th>\n",
       "      <th>last_scraped</th>\n",
       "      <th>source</th>\n",
       "      <th>name</th>\n",
       "      <th>description</th>\n",
       "      <th>neighborhood_overview</th>\n",
       "      <th>picture_url</th>\n",
       "      <th>host_id</th>\n",
       "      <th>...</th>\n",
       "      <th>review_scores_communication</th>\n",
       "      <th>review_scores_location</th>\n",
       "      <th>review_scores_value</th>\n",
       "      <th>license</th>\n",
       "      <th>instant_bookable</th>\n",
       "      <th>calculated_host_listings_count</th>\n",
       "      <th>calculated_host_listings_count_entire_homes</th>\n",
       "      <th>calculated_host_listings_count_private_rooms</th>\n",
       "      <th>calculated_host_listings_count_shared_rooms</th>\n",
       "      <th>reviews_per_month</th>\n",
       "    </tr>\n",
       "  </thead>\n",
       "  <tbody>\n",
       "    <tr>\n",
       "      <th>0</th>\n",
       "      <td>2539</td>\n",
       "      <td>https://www.airbnb.com/rooms/2539</td>\n",
       "      <td>20220907064715</td>\n",
       "      <td>2022-09-07</td>\n",
       "      <td>city scrape</td>\n",
       "      <td>Clean &amp; quiet apt home by the park</td>\n",
       "      <td>Renovated apt home in elevator building.&lt;br /&gt;...</td>\n",
       "      <td>Close to Prospect Park and Historic Ditmas Park</td>\n",
       "      <td>https://a0.muscache.com/pictures/3949d073-a02e...</td>\n",
       "      <td>2787</td>\n",
       "      <td>...</td>\n",
       "      <td>5.00</td>\n",
       "      <td>4.75</td>\n",
       "      <td>4.88</td>\n",
       "      <td>NaN</td>\n",
       "      <td>f</td>\n",
       "      <td>9</td>\n",
       "      <td>1</td>\n",
       "      <td>6</td>\n",
       "      <td>2</td>\n",
       "      <td>0.11</td>\n",
       "    </tr>\n",
       "    <tr>\n",
       "      <th>1</th>\n",
       "      <td>2595</td>\n",
       "      <td>https://www.airbnb.com/rooms/2595</td>\n",
       "      <td>20220907064715</td>\n",
       "      <td>2022-09-07</td>\n",
       "      <td>city scrape</td>\n",
       "      <td>Skylit Midtown Castle</td>\n",
       "      <td>Beautiful, spacious skylit studio in the heart...</td>\n",
       "      <td>Centrally located in the heart of Manhattan ju...</td>\n",
       "      <td>https://a0.muscache.com/pictures/f0813a11-40b2...</td>\n",
       "      <td>2845</td>\n",
       "      <td>...</td>\n",
       "      <td>4.80</td>\n",
       "      <td>4.81</td>\n",
       "      <td>4.40</td>\n",
       "      <td>NaN</td>\n",
       "      <td>f</td>\n",
       "      <td>3</td>\n",
       "      <td>3</td>\n",
       "      <td>0</td>\n",
       "      <td>0</td>\n",
       "      <td>0.31</td>\n",
       "    </tr>\n",
       "    <tr>\n",
       "      <th>2</th>\n",
       "      <td>5121</td>\n",
       "      <td>https://www.airbnb.com/rooms/5121</td>\n",
       "      <td>20220907064715</td>\n",
       "      <td>2022-09-07</td>\n",
       "      <td>city scrape</td>\n",
       "      <td>BlissArtsSpace!</td>\n",
       "      <td>One room available for rent in a 2 bedroom apt...</td>\n",
       "      <td>NaN</td>\n",
       "      <td>https://a0.muscache.com/pictures/2090980c-b68e...</td>\n",
       "      <td>7356</td>\n",
       "      <td>...</td>\n",
       "      <td>4.91</td>\n",
       "      <td>4.47</td>\n",
       "      <td>4.52</td>\n",
       "      <td>NaN</td>\n",
       "      <td>f</td>\n",
       "      <td>2</td>\n",
       "      <td>0</td>\n",
       "      <td>2</td>\n",
       "      <td>0</td>\n",
       "      <td>0.31</td>\n",
       "    </tr>\n",
       "    <tr>\n",
       "      <th>3</th>\n",
       "      <td>45910</td>\n",
       "      <td>https://www.airbnb.com/rooms/45910</td>\n",
       "      <td>20220907064715</td>\n",
       "      <td>2022-09-07</td>\n",
       "      <td>city scrape</td>\n",
       "      <td>Beautiful Queens Brownstone! - 5BR</td>\n",
       "      <td>&lt;b&gt;The space&lt;/b&gt;&lt;br /&gt;Beautiful, fully furnish...</td>\n",
       "      <td>NaN</td>\n",
       "      <td>https://a0.muscache.com/pictures/27117627/19ff...</td>\n",
       "      <td>204539</td>\n",
       "      <td>...</td>\n",
       "      <td>5.00</td>\n",
       "      <td>4.82</td>\n",
       "      <td>4.55</td>\n",
       "      <td>NaN</td>\n",
       "      <td>f</td>\n",
       "      <td>6</td>\n",
       "      <td>6</td>\n",
       "      <td>0</td>\n",
       "      <td>0</td>\n",
       "      <td>0.10</td>\n",
       "    </tr>\n",
       "    <tr>\n",
       "      <th>4</th>\n",
       "      <td>5136</td>\n",
       "      <td>https://www.airbnb.com/rooms/5136</td>\n",
       "      <td>20220907064715</td>\n",
       "      <td>2022-09-07</td>\n",
       "      <td>city scrape</td>\n",
       "      <td>Spacious Brooklyn Duplex, Patio + Garden</td>\n",
       "      <td>We welcome you to stay in our lovely 2 br dupl...</td>\n",
       "      <td>NaN</td>\n",
       "      <td>https://a0.muscache.com/pictures/miso/Hosting-...</td>\n",
       "      <td>7378</td>\n",
       "      <td>...</td>\n",
       "      <td>5.00</td>\n",
       "      <td>4.67</td>\n",
       "      <td>5.00</td>\n",
       "      <td>NaN</td>\n",
       "      <td>f</td>\n",
       "      <td>1</td>\n",
       "      <td>1</td>\n",
       "      <td>0</td>\n",
       "      <td>0</td>\n",
       "      <td>0.03</td>\n",
       "    </tr>\n",
       "  </tbody>\n",
       "</table>\n",
       "<p>5 rows × 75 columns</p>\n",
       "</div>"
      ],
      "text/plain": [
       "      id                         listing_url       scrape_id last_scraped  \\\n",
       "0   2539   https://www.airbnb.com/rooms/2539  20220907064715   2022-09-07   \n",
       "1   2595   https://www.airbnb.com/rooms/2595  20220907064715   2022-09-07   \n",
       "2   5121   https://www.airbnb.com/rooms/5121  20220907064715   2022-09-07   \n",
       "3  45910  https://www.airbnb.com/rooms/45910  20220907064715   2022-09-07   \n",
       "4   5136   https://www.airbnb.com/rooms/5136  20220907064715   2022-09-07   \n",
       "\n",
       "        source                                      name  \\\n",
       "0  city scrape        Clean & quiet apt home by the park   \n",
       "1  city scrape                     Skylit Midtown Castle   \n",
       "2  city scrape                           BlissArtsSpace!   \n",
       "3  city scrape        Beautiful Queens Brownstone! - 5BR   \n",
       "4  city scrape  Spacious Brooklyn Duplex, Patio + Garden   \n",
       "\n",
       "                                         description  \\\n",
       "0  Renovated apt home in elevator building.<br />...   \n",
       "1  Beautiful, spacious skylit studio in the heart...   \n",
       "2  One room available for rent in a 2 bedroom apt...   \n",
       "3  <b>The space</b><br />Beautiful, fully furnish...   \n",
       "4  We welcome you to stay in our lovely 2 br dupl...   \n",
       "\n",
       "                               neighborhood_overview  \\\n",
       "0    Close to Prospect Park and Historic Ditmas Park   \n",
       "1  Centrally located in the heart of Manhattan ju...   \n",
       "2                                                NaN   \n",
       "3                                                NaN   \n",
       "4                                                NaN   \n",
       "\n",
       "                                         picture_url  host_id  ...  \\\n",
       "0  https://a0.muscache.com/pictures/3949d073-a02e...     2787  ...   \n",
       "1  https://a0.muscache.com/pictures/f0813a11-40b2...     2845  ...   \n",
       "2  https://a0.muscache.com/pictures/2090980c-b68e...     7356  ...   \n",
       "3  https://a0.muscache.com/pictures/27117627/19ff...   204539  ...   \n",
       "4  https://a0.muscache.com/pictures/miso/Hosting-...     7378  ...   \n",
       "\n",
       "  review_scores_communication review_scores_location review_scores_value  \\\n",
       "0                        5.00                   4.75                4.88   \n",
       "1                        4.80                   4.81                4.40   \n",
       "2                        4.91                   4.47                4.52   \n",
       "3                        5.00                   4.82                4.55   \n",
       "4                        5.00                   4.67                5.00   \n",
       "\n",
       "  license instant_bookable calculated_host_listings_count  \\\n",
       "0     NaN                f                              9   \n",
       "1     NaN                f                              3   \n",
       "2     NaN                f                              2   \n",
       "3     NaN                f                              6   \n",
       "4     NaN                f                              1   \n",
       "\n",
       "  calculated_host_listings_count_entire_homes  \\\n",
       "0                                           1   \n",
       "1                                           3   \n",
       "2                                           0   \n",
       "3                                           6   \n",
       "4                                           1   \n",
       "\n",
       "  calculated_host_listings_count_private_rooms  \\\n",
       "0                                            6   \n",
       "1                                            0   \n",
       "2                                            2   \n",
       "3                                            0   \n",
       "4                                            0   \n",
       "\n",
       "  calculated_host_listings_count_shared_rooms reviews_per_month  \n",
       "0                                           2              0.11  \n",
       "1                                           0              0.31  \n",
       "2                                           0              0.31  \n",
       "3                                           0              0.10  \n",
       "4                                           0              0.03  \n",
       "\n",
       "[5 rows x 75 columns]"
      ]
     },
     "execution_count": 8,
     "metadata": {},
     "output_type": "execute_result"
    }
   ],
   "source": [
    "df.head()"
   ]
  },
  {
   "cell_type": "code",
   "execution_count": 9,
   "metadata": {},
   "outputs": [
    {
     "data": {
      "text/plain": [
       "Index(['id', 'listing_url', 'scrape_id', 'last_scraped', 'source', 'name',\n",
       "       'description', 'neighborhood_overview', 'picture_url', 'host_id',\n",
       "       'host_url', 'host_name', 'host_since', 'host_location', 'host_about',\n",
       "       'host_response_time', 'host_response_rate', 'host_acceptance_rate',\n",
       "       'host_is_superhost', 'host_thumbnail_url', 'host_picture_url',\n",
       "       'host_neighbourhood', 'host_listings_count',\n",
       "       'host_total_listings_count', 'host_verifications',\n",
       "       'host_has_profile_pic', 'host_identity_verified', 'neighbourhood',\n",
       "       'neighbourhood_cleansed', 'neighbourhood_group_cleansed', 'latitude',\n",
       "       'longitude', 'property_type', 'room_type', 'accommodates', 'bathrooms',\n",
       "       'bathrooms_text', 'bedrooms', 'beds', 'amenities', 'price',\n",
       "       'minimum_nights', 'maximum_nights', 'minimum_minimum_nights',\n",
       "       'maximum_minimum_nights', 'minimum_maximum_nights',\n",
       "       'maximum_maximum_nights', 'minimum_nights_avg_ntm',\n",
       "       'maximum_nights_avg_ntm', 'calendar_updated', 'has_availability',\n",
       "       'availability_30', 'availability_60', 'availability_90',\n",
       "       'availability_365', 'calendar_last_scraped', 'number_of_reviews',\n",
       "       'number_of_reviews_ltm', 'number_of_reviews_l30d', 'first_review',\n",
       "       'last_review', 'review_scores_rating', 'review_scores_accuracy',\n",
       "       'review_scores_cleanliness', 'review_scores_checkin',\n",
       "       'review_scores_communication', 'review_scores_location',\n",
       "       'review_scores_value', 'license', 'instant_bookable',\n",
       "       'calculated_host_listings_count',\n",
       "       'calculated_host_listings_count_entire_homes',\n",
       "       'calculated_host_listings_count_private_rooms',\n",
       "       'calculated_host_listings_count_shared_rooms', 'reviews_per_month'],\n",
       "      dtype='object')"
      ]
     },
     "execution_count": 9,
     "metadata": {},
     "output_type": "execute_result"
    }
   ],
   "source": [
    "df.columns"
   ]
  },
  {
   "cell_type": "code",
   "execution_count": 10,
   "metadata": {},
   "outputs": [],
   "source": [
    "df = df.drop(['host_id', 'host_since', 'id', 'listing_url', 'scrape_id', 'last_scraped', 'source', 'name', 'description', 'neighborhood_overview', 'picture_url','host_url', 'host_name', 'host_location', 'host_about', 'host_thumbnail_url', 'host_picture_url', 'host_neighbourhood', 'host_listings_count', 'host_total_listings_count', 'host_verifications', 'neighbourhood', 'latitude', 'longitude', 'minimum_minimum_nights', 'maximum_minimum_nights', 'minimum_maximum_nights', 'maximum_maximum_nights', 'minimum_nights_avg_ntm', 'maximum_nights_avg_ntm', 'calendar_last_scraped','number_of_reviews_ltm','number_of_reviews_l30d', 'first_review', 'last_review', 'license', 'calculated_host_listings_count', 'calculated_host_listings_count_entire_homes', 'calculated_host_listings_count_private_rooms', 'calculated_host_listings_count_shared_rooms'],axis=1)"
   ]
  },
  {
   "attachments": {},
   "cell_type": "markdown",
   "metadata": {},
   "source": [
    "columns that contain unique ids, descriptions, and URLs are dropped from the DataFrame because they aren't meaningful  preidicters of the price per night of a listing and we don't plan on doing any joins in this analysis."
   ]
  },
  {
   "cell_type": "code",
   "execution_count": 11,
   "metadata": {},
   "outputs": [
    {
     "data": {
      "text/plain": [
       "$150.00      1164\n",
       "$100.00       991\n",
       "$200.00       877\n",
       "$75.00        730\n",
       "$80.00        712\n",
       "             ... \n",
       "$491.00         1\n",
       "$1,446.00       1\n",
       "$1,229.00       1\n",
       "$739.00         1\n",
       "$1,871.00       1\n",
       "Name: price, Length: 1049, dtype: int64"
      ]
     },
     "execution_count": 11,
     "metadata": {},
     "output_type": "execute_result"
    }
   ],
   "source": [
    "df['price'].value_counts()"
   ]
  },
  {
   "cell_type": "code",
   "execution_count": 12,
   "metadata": {},
   "outputs": [],
   "source": [
    "df['price'] = df.price.apply(lambda x: x.replace('$',''))\n",
    "df['price'] = df.price.apply(lambda x: x.replace(',', ''))\n",
    "df['price'] = df.price.apply(pd.to_numeric)"
   ]
  },
  {
   "attachments": {},
   "cell_type": "markdown",
   "metadata": {},
   "source": [
    "The dollar signs and commas are dropped from the price per night feature so we can transform it to an Integer and use it to preform operations. This is the feature we are trying to predict in this analaysis"
   ]
  },
  {
   "cell_type": "code",
   "execution_count": 13,
   "metadata": {},
   "outputs": [
    {
     "data": {
      "text/plain": [
       "<AxesSubplot: xlabel='host_has_profile_pic', ylabel='count'>"
      ]
     },
     "execution_count": 13,
     "metadata": {},
     "output_type": "execute_result"
    },
    {
     "data": {
      "image/png": "[encoded data removed]",
      "text/plain": [
       "<Figure size 640x480 with 1 Axes>"
      ]
     },
     "metadata": {},
     "output_type": "display_data"
    }
   ],
   "source": [
    "sns.countplot(data=df, x='host_has_profile_pic')"
   ]
  },
  {
   "cell_type": "code",
   "execution_count": 14,
   "metadata": {},
   "outputs": [
    {
     "data": {
      "text/plain": [
       "t    39336\n",
       "f      495\n",
       "Name: host_has_profile_pic, dtype: int64"
      ]
     },
     "execution_count": 14,
     "metadata": {},
     "output_type": "execute_result"
    }
   ],
   "source": [
    "df['host_has_profile_pic'].value_counts()"
   ]
  },
  {
   "cell_type": "code",
   "execution_count": 15,
   "metadata": {},
   "outputs": [],
   "source": [
    "#df.drop('host_has_profile_pic', axis=1)"
   ]
  },
  {
   "cell_type": "code",
   "execution_count": 16,
   "metadata": {},
   "outputs": [
    {
     "data": {
      "text/plain": [
       "<AxesSubplot: xlabel='host_identity_verified', ylabel='count'>"
      ]
     },
     "execution_count": 16,
     "metadata": {},
     "output_type": "execute_result"
    },
    {
     "data": {
      "image/png": "[encoded data removed]",
      "text/plain": [
       "<Figure size 640x480 with 1 Axes>"
      ]
     },
     "metadata": {},
     "output_type": "display_data"
    }
   ],
   "source": [
    "sns.countplot(data=df, x='host_identity_verified')"
   ]
  },
  {
   "cell_type": "code",
   "execution_count": 17,
   "metadata": {},
   "outputs": [
    {
     "data": {
      "text/plain": [
       "t    33635\n",
       "f     6196\n",
       "Name: host_identity_verified, dtype: int64"
      ]
     },
     "execution_count": 17,
     "metadata": {},
     "output_type": "execute_result"
    }
   ],
   "source": [
    "df['host_identity_verified'].value_counts()"
   ]
  },
  {
   "cell_type": "code",
   "execution_count": 18,
   "metadata": {},
   "outputs": [
    {
     "data": {
      "text/plain": [
       "host_response_time               33.971064\n",
       "host_response_rate               33.971064\n",
       "host_acceptance_rate             29.740979\n",
       "host_is_superhost                 0.072716\n",
       "host_has_profile_pic              0.125373\n",
       "host_identity_verified            0.125373\n",
       "neighbourhood_cleansed            0.000000\n",
       "neighbourhood_group_cleansed      0.000000\n",
       "property_type                     0.000000\n",
       "room_type                         0.000000\n",
       "accommodates                      0.000000\n",
       "bathrooms                       100.000000\n",
       "bathrooms_text                    0.210627\n",
       "bedrooms                          9.485720\n",
       "beds                              2.216594\n",
       "amenities                         0.000000\n",
       "price                             0.000000\n",
       "minimum_nights                    0.000000\n",
       "maximum_nights                    0.000000\n",
       "calendar_updated                100.000000\n",
       "has_availability                  0.000000\n",
       "availability_30                   0.000000\n",
       "availability_60                   0.000000\n",
       "availability_90                   0.000000\n",
       "availability_365                  0.000000\n",
       "number_of_reviews                 0.000000\n",
       "review_scores_rating             20.967378\n",
       "review_scores_accuracy           22.128332\n",
       "review_scores_cleanliness        22.103257\n",
       "review_scores_checkin            22.138362\n",
       "review_scores_communication      22.115794\n",
       "review_scores_location           22.145884\n",
       "review_scores_value              22.145884\n",
       "instant_bookable                  0.000000\n",
       "reviews_per_month                20.967378\n",
       "dtype: float64"
      ]
     },
     "execution_count": 18,
     "metadata": {},
     "output_type": "execute_result"
    }
   ],
   "source": [
    "df.isnull().sum()/(len(df)) * 100"
   ]
  },
  {
   "attachments": {},
   "cell_type": "markdown",
   "metadata": {},
   "source": [
    "Dsiplays the null values of each feature as a percent of the total observations."
   ]
  },
  {
   "cell_type": "code",
   "execution_count": 19,
   "metadata": {},
   "outputs": [],
   "source": [
    "df = df.drop(['calendar_updated', 'bathrooms'], axis=1)"
   ]
  },
  {
   "attachments": {},
   "cell_type": "markdown",
   "metadata": {},
   "source": [
    "Features with 100% of the instances being null ('calender_updated' and 'bathrooms') are dropped. Later on, we will figure out what to do with the rest of the features containing null values."
   ]
  },
  {
   "cell_type": "code",
   "execution_count": 20,
   "metadata": {},
   "outputs": [],
   "source": [
    "df = df.dropna(subset=['host_is_superhost', 'host_has_profile_pic', 'host_identity_verified', 'bathrooms_text'])"
   ]
  },
  {
   "attachments": {},
   "cell_type": "markdown",
   "metadata": {},
   "source": [
    "Rows are dropped for features where the total percent of null values is less than 1."
   ]
  },
  {
   "cell_type": "code",
   "execution_count": 21,
   "metadata": {},
   "outputs": [
    {
     "data": {
      "text/plain": [
       "host_response_time              33.869223\n",
       "host_response_rate              33.869223\n",
       "host_acceptance_rate            29.629909\n",
       "host_is_superhost                0.000000\n",
       "host_has_profile_pic             0.000000\n",
       "host_identity_verified           0.000000\n",
       "neighbourhood_cleansed           0.000000\n",
       "neighbourhood_group_cleansed     0.000000\n",
       "property_type                    0.000000\n",
       "room_type                        0.000000\n",
       "accommodates                     0.000000\n",
       "bathrooms_text                   0.000000\n",
       "bedrooms                         9.434674\n",
       "beds                             2.113367\n",
       "amenities                        0.000000\n",
       "price                            0.000000\n",
       "minimum_nights                   0.000000\n",
       "maximum_nights                   0.000000\n",
       "has_availability                 0.000000\n",
       "availability_30                  0.000000\n",
       "availability_60                  0.000000\n",
       "availability_90                  0.000000\n",
       "availability_365                 0.000000\n",
       "number_of_reviews                0.000000\n",
       "review_scores_rating            20.844340\n",
       "review_scores_accuracy          21.999145\n",
       "review_scores_cleanliness       21.973985\n",
       "review_scores_checkin           22.009208\n",
       "review_scores_communication     21.986565\n",
       "review_scores_location          22.016756\n",
       "review_scores_value             22.016756\n",
       "instant_bookable                 0.000000\n",
       "reviews_per_month               20.844340\n",
       "dtype: float64"
      ]
     },
     "execution_count": 21,
     "metadata": {},
     "output_type": "execute_result"
    }
   ],
   "source": [
    "df.isnull().sum()/len(df) * 100"
   ]
  },
  {
   "cell_type": "code",
   "execution_count": 22,
   "metadata": {},
   "outputs": [],
   "source": [
    "df = df.drop(['host_response_time', 'host_response_rate', 'host_acceptance_rate'], axis=1)"
   ]
  },
  {
   "attachments": {},
   "cell_type": "markdown",
   "metadata": {},
   "source": [
    "a large portion of these features are null so I chose to drop them instead of filling with a mean"
   ]
  },
  {
   "cell_type": "code",
   "execution_count": 23,
   "metadata": {},
   "outputs": [],
   "source": [
    "df = df.drop(['review_scores_rating', 'review_scores_accuracy', 'review_scores_cleanliness', 'review_scores_checkin', 'review_scores_location', 'review_scores_value', 'review_scores_communication', 'reviews_per_month'], axis=1)"
   ]
  },
  {
   "attachments": {},
   "cell_type": "markdown",
   "metadata": {},
   "source": [
    "I dropped the review scores features becasue there are too many missing values to include it in the model. The null values for all of these features are over 20% of the total."
   ]
  },
  {
   "cell_type": "code",
   "execution_count": 24,
   "metadata": {},
   "outputs": [],
   "source": [
    "df = df.dropna(subset=['bedrooms'])"
   ]
  },
  {
   "attachments": {},
   "cell_type": "markdown",
   "metadata": {},
   "source": [
    "The null Bedrooms rows are drops. We will be using this feature to predict the null beds values"
   ]
  },
  {
   "cell_type": "code",
   "execution_count": 25,
   "metadata": {},
   "outputs": [
    {
     "name": "stderr",
     "output_type": "stream",
     "text": [
      "C:\\Users\\riley\\AppData\\Local\\Temp\\ipykernel_5520\\1892437022.py:1: FutureWarning: The default value of numeric_only in DataFrameGroupBy.mean is deprecated. In a future version, numeric_only will default to False. Either specify numeric_only or select only columns which should be valid for the function.\n",
      "  beds_per_bedroom = df.groupby('bedrooms').mean().round()['beds']\n"
     ]
    }
   ],
   "source": [
    "beds_per_bedroom = df.groupby('bedrooms').mean().round()['beds']"
   ]
  },
  {
   "attachments": {},
   "cell_type": "markdown",
   "metadata": {},
   "source": [
    "A beds per bedroom object is created that contains the average beds for each unique bedrooms value."
   ]
  },
  {
   "cell_type": "code",
   "execution_count": 26,
   "metadata": {},
   "outputs": [],
   "source": [
    "def fill_beds(beds, bedrooms):\n",
    "    \"\"\"Accepts the beds and bedrooms values for the row.\n",
    "    Checks if the beds is NaN , if so, it returns the avg beds value\n",
    "    for the corresponding bedrooms value for that row.\n",
    "    \n",
    "    average beds here should be a Series or dictionary containing the mapping of the\n",
    "    groupby averages of beds per bedrooms values.\"\"\"\n",
    "    if np.isnan(beds):\n",
    "        return beds_per_bedroom[bedrooms]\n",
    "    else:\n",
    "        return beds"
   ]
  },
  {
   "attachments": {},
   "cell_type": "markdown",
   "metadata": {},
   "source": [
    "This function will itterate through each row and return the calculated average beds for each value of bedrooms where beds is null. Else the original beds value for that row is returned."
   ]
  },
  {
   "cell_type": "code",
   "execution_count": 27,
   "metadata": {},
   "outputs": [],
   "source": [
    "df['beds'] = df.apply(lambda x: fill_beds(x['bedrooms'], x['beds']), axis=1)"
   ]
  },
  {
   "attachments": {},
   "cell_type": "markdown",
   "metadata": {},
   "source": [
    "The mean rounded up value of beds per bedroom for each unique numnber of bedrooms is filled into the null rows of the beds column using the fill_beds function. \n",
    "( Example: A listing with 3 bedrooms and a null beds will be filled with a value of 3 beds. )"
   ]
  },
  {
   "cell_type": "code",
   "execution_count": 28,
   "metadata": {},
   "outputs": [
    {
     "data": {
      "text/plain": [
       "host_is_superhost               0.0\n",
       "host_has_profile_pic            0.0\n",
       "host_identity_verified          0.0\n",
       "neighbourhood_cleansed          0.0\n",
       "neighbourhood_group_cleansed    0.0\n",
       "property_type                   0.0\n",
       "room_type                       0.0\n",
       "accommodates                    0.0\n",
       "bathrooms_text                  0.0\n",
       "bedrooms                        0.0\n",
       "beds                            0.0\n",
       "amenities                       0.0\n",
       "price                           0.0\n",
       "minimum_nights                  0.0\n",
       "maximum_nights                  0.0\n",
       "has_availability                0.0\n",
       "availability_30                 0.0\n",
       "availability_60                 0.0\n",
       "availability_90                 0.0\n",
       "availability_365                0.0\n",
       "number_of_reviews               0.0\n",
       "instant_bookable                0.0\n",
       "dtype: float64"
      ]
     },
     "execution_count": 28,
     "metadata": {},
     "output_type": "execute_result"
    }
   ],
   "source": [
    "df.isnull().sum()/len(df) * 100"
   ]
  },
  {
   "attachments": {},
   "cell_type": "markdown",
   "metadata": {},
   "source": [
    "No remaining features have null values. Thats it for preprocessing."
   ]
  },
  {
   "attachments": {},
   "cell_type": "markdown",
   "metadata": {},
   "source": [
    "### Feature Engineering"
   ]
  },
  {
   "cell_type": "code",
   "execution_count": 29,
   "metadata": {},
   "outputs": [
    {
     "data": {
      "text/plain": [
       "0    1 shared bath\n",
       "3        2.5 baths\n",
       "Name: bathrooms_text, dtype: object"
      ]
     },
     "execution_count": 29,
     "metadata": {},
     "output_type": "execute_result"
    }
   ],
   "source": [
    "df['bathrooms_text'].head(2)"
   ]
  },
  {
   "cell_type": "code",
   "execution_count": 30,
   "metadata": {},
   "outputs": [
    {
     "data": {
      "text/plain": [
       "1 bath               17823\n",
       "1 shared bath         9042\n",
       "2 baths               2582\n",
       "1 private bath        2542\n",
       "1.5 baths             1085\n",
       "2 shared baths        1037\n",
       "1.5 shared baths       693\n",
       "2.5 baths              383\n",
       "3 baths                244\n",
       "3.5 baths               88\n",
       "3 shared baths          86\n",
       "0 shared baths          86\n",
       "2.5 shared baths        79\n",
       "4 baths                 65\n",
       "0 baths                 37\n",
       "Half-bath               28\n",
       "4.5 baths               26\n",
       "Shared half-bath        18\n",
       "4 shared baths          12\n",
       "Private half-bath       10\n",
       "5.5 baths                9\n",
       "5 baths                  6\n",
       "6 baths                  6\n",
       "4.5 shared baths         2\n",
       "6.5 baths                2\n",
       "6 shared baths           2\n",
       "3.5 shared baths         1\n",
       "7.5 baths                1\n",
       "7 baths                  1\n",
       "9.5 baths                1\n",
       "Name: bathrooms_text, dtype: int64"
      ]
     },
     "execution_count": 30,
     "metadata": {},
     "output_type": "execute_result"
    }
   ],
   "source": [
    "df['bathrooms_text'].value_counts()"
   ]
  },
  {
   "attachments": {},
   "cell_type": "markdown",
   "metadata": {},
   "source": [
    "Instead of turning every unique bathroom value into a dummy variable I chose to split bathrooms feature between shared and private."
   ]
  },
  {
   "cell_type": "code",
   "execution_count": 31,
   "metadata": {},
   "outputs": [],
   "source": [
    "def bath_type(bathroom):\n",
    "    \"\"\"This function returns a 1 if the bathroom_text string contains the word \n",
    "    string and 0 otherwise indicating a private bathroom \"\"\"\n",
    "    if \"shared\" in bathroom:\n",
    "        return 1\n",
    "    else:\n",
    "        return 0"
   ]
  },
  {
   "attachments": {},
   "cell_type": "markdown",
   "metadata": {},
   "source": [
    "To make a shared_baths feature first I created a function that returns a 1 if the bathroom is shared and 0 otherwise indicating a private bathroom."
   ]
  },
  {
   "cell_type": "code",
   "execution_count": 32,
   "metadata": {},
   "outputs": [],
   "source": [
    "df['shared_baths'] = df['bathrooms_text'].apply(bath_type)"
   ]
  },
  {
   "attachments": {},
   "cell_type": "markdown",
   "metadata": {},
   "source": [
    "The function is then applied to the bathrooms_text column, each row is iterated through."
   ]
  },
  {
   "cell_type": "code",
   "execution_count": 33,
   "metadata": {},
   "outputs": [
    {
     "data": {
      "text/plain": [
       "0    24957\n",
       "1    11040\n",
       "Name: shared_baths, dtype: int64"
      ]
     },
     "execution_count": 33,
     "metadata": {},
     "output_type": "execute_result"
    }
   ],
   "source": [
    "df['shared_baths'].value_counts()"
   ]
  },
  {
   "cell_type": "code",
   "execution_count": 34,
   "metadata": {},
   "outputs": [],
   "source": [
    "df = df.drop('bathrooms_text', axis=1)"
   ]
  },
  {
   "attachments": {},
   "cell_type": "markdown",
   "metadata": {},
   "source": [
    "the original bathrooms_text column is finally dropped"
   ]
  },
  {
   "cell_type": "code",
   "execution_count": 35,
   "metadata": {},
   "outputs": [
    {
     "data": {
      "text/plain": [
       "<AxesSubplot: xlabel='availability_365', ylabel='Count'>"
      ]
     },
     "execution_count": 35,
     "metadata": {},
     "output_type": "execute_result"
    },
    {
     "data": {
      "image/png": "[encoded data removed]",
      "text/plain": [
       "<Figure size 640x480 with 1 Axes>"
      ]
     },
     "metadata": {},
     "output_type": "display_data"
    }
   ],
   "source": [
    "sns.histplot(data=df, x='availability_365')"
   ]
  },
  {
   "cell_type": "code",
   "execution_count": 36,
   "metadata": {},
   "outputs": [
    {
     "data": {
      "text/plain": [
       "<AxesSubplot: xlabel='availability_90', ylabel='Count'>"
      ]
     },
     "execution_count": 36,
     "metadata": {},
     "output_type": "execute_result"
    },
    {
     "data": {
      "image/png": "[encoded data removed]",
      "text/plain": [
       "<Figure size 640x480 with 1 Axes>"
      ]
     },
     "metadata": {},
     "output_type": "display_data"
    }
   ],
   "source": [
    "sns.histplot(data = df, x='availability_90')"
   ]
  },
  {
   "cell_type": "code",
   "execution_count": 37,
   "metadata": {},
   "outputs": [
    {
     "data": {
      "text/plain": [
       "<AxesSubplot: xlabel='availability_60', ylabel='Count'>"
      ]
     },
     "execution_count": 37,
     "metadata": {},
     "output_type": "execute_result"
    },
    {
     "data": {
      "image/png": "[encoded data removed]",
      "text/plain": [
       "<Figure size 640x480 with 1 Axes>"
      ]
     },
     "metadata": {},
     "output_type": "display_data"
    }
   ],
   "source": [
    "sns.histplot(data = df, x='availability_60')"
   ]
  },
  {
   "cell_type": "code",
   "execution_count": 38,
   "metadata": {},
   "outputs": [
    {
     "data": {
      "text/plain": [
       "<AxesSubplot: xlabel='availability_30', ylabel='Count'>"
      ]
     },
     "execution_count": 38,
     "metadata": {},
     "output_type": "execute_result"
    },
    {
     "data": {
      "image/png": "[encoded data removed]",
      "text/plain": [
       "<Figure size 640x480 with 1 Axes>"
      ]
     },
     "metadata": {},
     "output_type": "display_data"
    }
   ],
   "source": [
    "sns.histplot(data = df, x='availability_30')"
   ]
  },
  {
   "cell_type": "code",
   "execution_count": 39,
   "metadata": {},
   "outputs": [],
   "source": [
    "df['booked_out_of_365'] = 365-df['availability_365']"
   ]
  },
  {
   "cell_type": "code",
   "execution_count": 40,
   "metadata": {},
   "outputs": [],
   "source": [
    "df['booked_out_of_90'] = 90-df['availability_90']"
   ]
  },
  {
   "cell_type": "code",
   "execution_count": 41,
   "metadata": {},
   "outputs": [],
   "source": [
    "df['booked_out_of_60'] = 60-df['availability_60']"
   ]
  },
  {
   "cell_type": "code",
   "execution_count": 42,
   "metadata": {},
   "outputs": [],
   "source": [
    "df['booked_out_of_30'] = 30-df['availability_30']"
   ]
  },
  {
   "cell_type": "code",
   "execution_count": 43,
   "metadata": {},
   "outputs": [],
   "source": [
    "df = df.drop(['availability_365', 'availability_90', 'availability_60', 'availability_30'],axis=1)"
   ]
  },
  {
   "attachments": {},
   "cell_type": "markdown",
   "metadata": {},
   "source": [
    "I converted 'avialabilty' to' booked' for all of the 'availability' columns so its easier to interpret."
   ]
  },
  {
   "cell_type": "code",
   "execution_count": 44,
   "metadata": {},
   "outputs": [
    {
     "name": "stdout",
     "output_type": "stream",
     "text": [
      "[t=true; f=false]\n"
     ]
    }
   ],
   "source": [
    "feat_info('has_availability')"
   ]
  },
  {
   "cell_type": "code",
   "execution_count": 45,
   "metadata": {},
   "outputs": [
    {
     "data": {
      "text/plain": [
       "365    5616\n",
       "0         1\n",
       "362       1\n",
       "140       1\n",
       "Name: booked_out_of_365, dtype: int64"
      ]
     },
     "execution_count": 45,
     "metadata": {},
     "output_type": "execute_result"
    }
   ],
   "source": [
    "df[df['has_availability']=='f']['booked_out_of_365'].value_counts()\n"
   ]
  },
  {
   "attachments": {},
   "cell_type": "markdown",
   "metadata": {},
   "source": [
    "Since Airbnb doesnt differeientiate between fully booked and unavailabile listings, most of the unavilable listings have a value of booked 365/365 days per year."
   ]
  },
  {
   "cell_type": "code",
   "execution_count": 46,
   "metadata": {},
   "outputs": [
    {
     "data": {
      "text/plain": [
       "<AxesSubplot: xlabel='has_availability', ylabel='count'>"
      ]
     },
     "execution_count": 46,
     "metadata": {},
     "output_type": "execute_result"
    },
    {
     "data": {
      "image/png": "[encoded data removed]",
      "text/plain": [
       "<Figure size 640x480 with 1 Axes>"
      ]
     },
     "metadata": {},
     "output_type": "display_data"
    }
   ],
   "source": [
    "sns.countplot(data=df, x='has_availability')"
   ]
  },
  {
   "cell_type": "code",
   "execution_count": 47,
   "metadata": {},
   "outputs": [
    {
     "data": {
      "text/plain": [
       "<seaborn.axisgrid.FacetGrid at 0x246b7779d20>"
      ]
     },
     "execution_count": 47,
     "metadata": {},
     "output_type": "execute_result"
    },
    {
     "data": {
      "image/png": "[encoded data removed]",
      "text/plain": [
       "<Figure size 500x500 with 1 Axes>"
      ]
     },
     "metadata": {},
     "output_type": "display_data"
    }
   ],
   "source": [
    "sns.displot(data=df, x='booked_out_of_365', bins=52)"
   ]
  },
  {
   "attachments": {},
   "cell_type": "markdown",
   "metadata": {},
   "source": [
    "despite most listings have less than a week of availability in the year, bookings are negatively coorelated with price. Higher bookings in a 365, 90, 60, and 30 day period are associated with lower price per nights."
   ]
  },
  {
   "cell_type": "code",
   "execution_count": 48,
   "metadata": {},
   "outputs": [],
   "source": [
    "def has_availability_checker(availability):\n",
    "    \"\"\"Returns a 1 if has_availabilty is true, 0 otherwise\"\"\"\n",
    "    if availability =='t':\n",
    "        return 1\n",
    "    else:\n",
    "        return 0"
   ]
  },
  {
   "cell_type": "code",
   "execution_count": 49,
   "metadata": {},
   "outputs": [],
   "source": [
    "df['has_availability'] = df['has_availability'].apply(has_availability_checker)"
   ]
  },
  {
   "attachments": {},
   "cell_type": "markdown",
   "metadata": {},
   "source": [
    "iterates through each row and returns a 1 where the 'has_availability' column == 't', 0 otherwise. "
   ]
  },
  {
   "cell_type": "code",
   "execution_count": 50,
   "metadata": {},
   "outputs": [
    {
     "data": {
      "text/plain": [
       "<AxesSubplot: xlabel='has_availability', ylabel='count'>"
      ]
     },
     "execution_count": 50,
     "metadata": {},
     "output_type": "execute_result"
    },
    {
     "data": {
      "image/png": "[encoded data removed]",
      "text/plain": [
       "<Figure size 640x480 with 1 Axes>"
      ]
     },
     "metadata": {},
     "output_type": "display_data"
    }
   ],
   "source": [
    "sns.countplot(data=df, x='has_availability')"
   ]
  },
  {
   "cell_type": "code",
   "execution_count": 51,
   "metadata": {},
   "outputs": [
    {
     "data": {
      "text/plain": [
       "Index(['host_is_superhost', 'host_has_profile_pic', 'host_identity_verified',\n",
       "       'neighbourhood_cleansed', 'neighbourhood_group_cleansed',\n",
       "       'property_type', 'room_type', 'amenities', 'instant_bookable'],\n",
       "      dtype='object')"
      ]
     },
     "execution_count": 51,
     "metadata": {},
     "output_type": "execute_result"
    }
   ],
   "source": [
    "df.select_dtypes(['object']).columns"
   ]
  },
  {
   "cell_type": "code",
   "execution_count": 52,
   "metadata": {},
   "outputs": [
    {
     "data": {
      "text/plain": [
       "f    28517\n",
       "t     7480\n",
       "Name: host_is_superhost, dtype: int64"
      ]
     },
     "execution_count": 52,
     "metadata": {},
     "output_type": "execute_result"
    }
   ],
   "source": [
    "df['host_is_superhost'].value_counts()"
   ]
  },
  {
   "cell_type": "code",
   "execution_count": 53,
   "metadata": {},
   "outputs": [],
   "source": [
    "def super_host_checker(host):\n",
    "    '''Returns a 0 if 'host_is_superhost == 'f', 1 otherwise '''\n",
    "    if host == 'f':\n",
    "        return 0\n",
    "    else:\n",
    "        return 1"
   ]
  },
  {
   "cell_type": "code",
   "execution_count": 54,
   "metadata": {},
   "outputs": [],
   "source": [
    "df['host_is_superhost'] = df['host_is_superhost'].apply(super_host_checker)"
   ]
  },
  {
   "attachments": {},
   "cell_type": "markdown",
   "metadata": {},
   "source": [
    "Itterates through each row and returns a 1 if 'host_is_superhost =='t', otherwise 0"
   ]
  },
  {
   "cell_type": "code",
   "execution_count": 55,
   "metadata": {},
   "outputs": [
    {
     "data": {
      "text/plain": [
       "0    28517\n",
       "1     7480\n",
       "Name: host_is_superhost, dtype: int64"
      ]
     },
     "execution_count": 55,
     "metadata": {},
     "output_type": "execute_result"
    }
   ],
   "source": [
    "df['host_is_superhost'].value_counts()"
   ]
  },
  {
   "cell_type": "code",
   "execution_count": 56,
   "metadata": {},
   "outputs": [
    {
     "data": {
      "text/plain": [
       "t    30355\n",
       "f     5642\n",
       "Name: host_identity_verified, dtype: int64"
      ]
     },
     "execution_count": 56,
     "metadata": {},
     "output_type": "execute_result"
    }
   ],
   "source": [
    "df['host_identity_verified'].value_counts()"
   ]
  },
  {
   "cell_type": "code",
   "execution_count": 57,
   "metadata": {},
   "outputs": [],
   "source": [
    "def host_verified_conversion(host):\n",
    "    '''Returns a 1 if host_identity_verified =='t', 0 otherwise'''\n",
    "    if host=='t':\n",
    "        return 1\n",
    "    else:\n",
    "        return 0"
   ]
  },
  {
   "cell_type": "code",
   "execution_count": 58,
   "metadata": {},
   "outputs": [],
   "source": [
    "df['host_identity_verified'] = df['host_identity_verified'].apply(host_verified_conversion)"
   ]
  },
  {
   "attachments": {},
   "cell_type": "markdown",
   "metadata": {},
   "source": [
    "Itterates through each row and returns a 1 if 'host_identity_verified =='t', otherwise 0"
   ]
  },
  {
   "cell_type": "code",
   "execution_count": 59,
   "metadata": {},
   "outputs": [
    {
     "data": {
      "text/plain": [
       "1    30355\n",
       "0     5642\n",
       "Name: host_identity_verified, dtype: int64"
      ]
     },
     "execution_count": 59,
     "metadata": {},
     "output_type": "execute_result"
    }
   ],
   "source": [
    "df['host_identity_verified'].value_counts()"
   ]
  },
  {
   "cell_type": "code",
   "execution_count": 60,
   "metadata": {},
   "outputs": [
    {
     "data": {
      "text/plain": [
       "Bedford-Stuyvesant    2654\n",
       "Williamsburg          2305\n",
       "Harlem                1762\n",
       "Bushwick              1599\n",
       "Upper West Side       1420\n",
       "                      ... \n",
       "Pelham Islands           1\n",
       "Bull's Head              1\n",
       "Westerleigh              1\n",
       "Woodrow                  1\n",
       "Ferry Point Park         1\n",
       "Name: neighbourhood_cleansed, Length: 243, dtype: int64"
      ]
     },
     "execution_count": 60,
     "metadata": {},
     "output_type": "execute_result"
    }
   ],
   "source": [
    "df['neighbourhood_cleansed'].value_counts()"
   ]
  },
  {
   "cell_type": "code",
   "execution_count": 61,
   "metadata": {},
   "outputs": [],
   "source": [
    "neighbourhood_value_counts = df['neighbourhood_cleansed'].value_counts()\n",
    "to_remove = neighbourhood_value_counts[neighbourhood_value_counts > 20].index\n",
    "df = df[df.neighbourhood_cleansed.isin(to_remove)]"
   ]
  },
  {
   "attachments": {},
   "cell_type": "markdown",
   "metadata": {},
   "source": [
    "Removes neighbourhoods with less than 20 observations. Neighbourhoods when converted to dummy variables that have less than 10 - 20 instances will have almost no predictive power in estimating price."
   ]
  },
  {
   "cell_type": "code",
   "execution_count": 62,
   "metadata": {},
   "outputs": [
    {
     "data": {
      "text/plain": [
       "Bedford-Stuyvesant    2654\n",
       "Williamsburg          2305\n",
       "Harlem                1762\n",
       "Bushwick              1599\n",
       "Upper West Side       1420\n",
       "                      ... \n",
       "Bayswater               23\n",
       "Highbridge              23\n",
       "Mariners Harbor         22\n",
       "Coney Island            21\n",
       "Howland Hook            21\n",
       "Name: neighbourhood_cleansed, Length: 148, dtype: int64"
      ]
     },
     "execution_count": 62,
     "metadata": {},
     "output_type": "execute_result"
    }
   ],
   "source": [
    "df['neighbourhood_cleansed'].value_counts()"
   ]
  },
  {
   "attachments": {},
   "cell_type": "markdown",
   "metadata": {},
   "source": [
    "With neighbourhoods with less than 20 observations removed we reduced the number of dummy variables we will have from 243 to 148."
   ]
  },
  {
   "cell_type": "code",
   "execution_count": 63,
   "metadata": {},
   "outputs": [
    {
     "data": {
      "text/plain": [
       "Manhattan        14233\n",
       "Brooklyn         13858\n",
       "Queens            5743\n",
       "Bronx             1226\n",
       "Staten Island      186\n",
       "Name: neighbourhood_group_cleansed, dtype: int64"
      ]
     },
     "execution_count": 63,
     "metadata": {},
     "output_type": "execute_result"
    }
   ],
   "source": [
    "df['neighbourhood_group_cleansed'].value_counts()"
   ]
  },
  {
   "cell_type": "code",
   "execution_count": 64,
   "metadata": {},
   "outputs": [],
   "source": [
    "df = df.drop('neighbourhood_group_cleansed', axis=1)"
   ]
  },
  {
   "attachments": {},
   "cell_type": "markdown",
   "metadata": {},
   "source": [
    "Neighbourhood_group_cleasned is dropped from the dataframe becasue the group can be determined from the next level of granularity in the neighbourhood_cleasned feature."
   ]
  },
  {
   "cell_type": "code",
   "execution_count": 65,
   "metadata": {},
   "outputs": [],
   "source": [
    "neighbourhood_dummies= pd.get_dummies(df['neighbourhood_cleansed'], drop_first=True)"
   ]
  },
  {
   "cell_type": "code",
   "execution_count": 66,
   "metadata": {},
   "outputs": [],
   "source": [
    "df = pd.concat([df.drop('neighbourhood_cleansed',axis=1),neighbourhood_dummies],axis=1)"
   ]
  },
  {
   "cell_type": "code",
   "execution_count": 67,
   "metadata": {},
   "outputs": [
    {
     "data": {
      "text/plain": [
       "(35246, 167)"
      ]
     },
     "execution_count": 67,
     "metadata": {},
     "output_type": "execute_result"
    }
   ],
   "source": [
    "df.shape"
   ]
  },
  {
   "cell_type": "code",
   "execution_count": 68,
   "metadata": {},
   "outputs": [
    {
     "data": {
      "text/plain": [
       "Entire rental unit                    13914\n",
       "Private room in rental unit           10153\n",
       "Private room in home                   1973\n",
       "Entire condo                           1478\n",
       "Entire home                            1302\n",
       "                                      ...  \n",
       "Private room in floor                     1\n",
       "Shared room in floor                      1\n",
       "Private room in religious building        1\n",
       "Cave                                      1\n",
       "Shared room in casa particular            1\n",
       "Name: property_type, Length: 78, dtype: int64"
      ]
     },
     "execution_count": 68,
     "metadata": {},
     "output_type": "execute_result"
    }
   ],
   "source": [
    "df['property_type'].value_counts()"
   ]
  },
  {
   "cell_type": "code",
   "execution_count": 69,
   "metadata": {},
   "outputs": [],
   "source": [
    "proprty_type_value_counts = df['property_type'].value_counts()\n",
    "to_remove_property_type = proprty_type_value_counts[proprty_type_value_counts > 20].index\n",
    "df = df[df.property_type.isin(to_remove_property_type)]"
   ]
  },
  {
   "cell_type": "code",
   "execution_count": 70,
   "metadata": {},
   "outputs": [
    {
     "data": {
      "text/plain": [
       "Entire rental unit                    13914\n",
       "Private room in rental unit           10153\n",
       "Private room in home                   1973\n",
       "Entire condo                           1478\n",
       "Entire home                            1302\n",
       "Private room in townhouse              1033\n",
       "Entire townhouse                        619\n",
       "Entire loft                             609\n",
       "Private room in condo                   579\n",
       "Room in hotel                           558\n",
       "Entire serviced apartment               516\n",
       "Shared room in rental unit              420\n",
       "Room in boutique hotel                  360\n",
       "Entire guest suite                      306\n",
       "Private room in serviced apartment      293\n",
       "Private room in loft                    265\n",
       "Private room in guest suite             113\n",
       "Private room in casa particular          87\n",
       "Private room in bed and breakfast        63\n",
       "Entire guesthouse                        51\n",
       "Entire vacation home                     47\n",
       "Private room                             47\n",
       "Shared room in home                      44\n",
       "Entire place                             41\n",
       "Shared room in loft                      33\n",
       "Private room in hostel                   30\n",
       "Room in aparthotel                       29\n",
       "Private room in resort                   29\n",
       "Private room in guesthouse               28\n",
       "Entire bungalow                          24\n",
       "Name: property_type, dtype: int64"
      ]
     },
     "execution_count": 70,
     "metadata": {},
     "output_type": "execute_result"
    }
   ],
   "source": [
    "df['property_type'].value_counts()"
   ]
  },
  {
   "cell_type": "code",
   "execution_count": 71,
   "metadata": {},
   "outputs": [],
   "source": [
    "property_type_dummies = pd.get_dummies(df['property_type'], drop_first=True)"
   ]
  },
  {
   "cell_type": "code",
   "execution_count": 72,
   "metadata": {},
   "outputs": [],
   "source": [
    "df = pd.concat([df.drop('property_type',axis=1),property_type_dummies],axis=1)"
   ]
  },
  {
   "cell_type": "code",
   "execution_count": 73,
   "metadata": {},
   "outputs": [
    {
     "data": {
      "text/plain": [
       "Entire home/apt    18933\n",
       "Private room       15473\n",
       "Shared room          497\n",
       "Hotel room           141\n",
       "Name: room_type, dtype: int64"
      ]
     },
     "execution_count": 73,
     "metadata": {},
     "output_type": "execute_result"
    }
   ],
   "source": [
    "df['room_type'].value_counts()"
   ]
  },
  {
   "cell_type": "code",
   "execution_count": 74,
   "metadata": {},
   "outputs": [],
   "source": [
    "df = df.drop('room_type', axis=1)"
   ]
  },
  {
   "attachments": {},
   "cell_type": "markdown",
   "metadata": {},
   "source": [
    "Room type is dropped becasue we are including dummy variables for property type which is one level of granulaity deeper than room type"
   ]
  },
  {
   "cell_type": "code",
   "execution_count": 75,
   "metadata": {},
   "outputs": [
    {
     "data": {
      "text/plain": [
       "f    25363\n",
       "t     9681\n",
       "Name: instant_bookable, dtype: int64"
      ]
     },
     "execution_count": 75,
     "metadata": {},
     "output_type": "execute_result"
    }
   ],
   "source": [
    "df['instant_bookable'].value_counts()"
   ]
  },
  {
   "cell_type": "code",
   "execution_count": 76,
   "metadata": {},
   "outputs": [],
   "source": [
    "def instant_bookable_checker(listing):\n",
    "    \"\"\"Returns a 1 if listing is instant bookable, otherwise 0\"\"\"\n",
    "    if listing =='t':\n",
    "        return 1\n",
    "    else:\n",
    "        return 0\n"
   ]
  },
  {
   "cell_type": "code",
   "execution_count": 77,
   "metadata": {},
   "outputs": [],
   "source": [
    "df['instant_bookable'] = df['instant_bookable'].apply(instant_bookable_checker)"
   ]
  },
  {
   "attachments": {},
   "cell_type": "markdown",
   "metadata": {},
   "source": [
    "Iterates through each row and returns 1 where instant_bookable == 't, Returns 0 otherwise"
   ]
  },
  {
   "cell_type": "code",
   "execution_count": 78,
   "metadata": {},
   "outputs": [
    {
     "data": {
      "text/plain": [
       "0    25363\n",
       "1     9681\n",
       "Name: instant_bookable, dtype: int64"
      ]
     },
     "execution_count": 78,
     "metadata": {},
     "output_type": "execute_result"
    }
   ],
   "source": [
    "df['instant_bookable'].value_counts()"
   ]
  },
  {
   "cell_type": "code",
   "execution_count": 79,
   "metadata": {},
   "outputs": [],
   "source": [
    "def has_profile_pic_checker(pic):\n",
    "    \"\"\"Returns a 1 if host_has_profile_pic =='t\", otherwise, returns 0\"\"\"\n",
    "    if pic =='t':\n",
    "        return 1\n",
    "    else:\n",
    "        return 0"
   ]
  },
  {
   "cell_type": "code",
   "execution_count": 80,
   "metadata": {},
   "outputs": [],
   "source": [
    "df['host_has_profile_pic'] = df['host_has_profile_pic'].apply(has_profile_pic_checker)"
   ]
  },
  {
   "attachments": {},
   "cell_type": "markdown",
   "metadata": {},
   "source": [
    "Iterates through each row and replaces 't' with a '1' and 'f' with '0' in the host_has_profile_pic column."
   ]
  },
  {
   "cell_type": "code",
   "execution_count": 81,
   "metadata": {},
   "outputs": [
    {
     "data": {
      "text/plain": [
       "Index(['amenities'], dtype='object')"
      ]
     },
     "execution_count": 81,
     "metadata": {},
     "output_type": "execute_result"
    }
   ],
   "source": [
    "df.select_dtypes(['object']).columns"
   ]
  },
  {
   "cell_type": "code",
   "execution_count": 82,
   "metadata": {},
   "outputs": [
    {
     "data": {
      "text/plain": [
       "0     [\"First aid kit\", \"Microwave\", \"Stove\", \"Coffe...\n",
       "3     [\"Hair dryer\", \"Essentials\", \"Carbon monoxide ...\n",
       "4     [\"Hair dryer\", \"Cable TV\", \"Refrigerator\", \"BB...\n",
       "5     [\"First aid kit\", \"Essentials\", \"Breakfast\", \"...\n",
       "6     [\"First aid kit\", \"Coffee maker\", \"Gym\", \"Long...\n",
       "7     [\"Body soap\", \"Microwave\", \"Laundromat nearby\"...\n",
       "8     [\"Essentials\", \"Oven\", \"Cable TV\", \"Refrigerat...\n",
       "9     [\"Coffee maker\", \"Gym\", \"Long term stays allow...\n",
       "10    [\"First aid kit\", \"Coffee maker\", \"Gym\", \"Long...\n",
       "11    [\"Breakfast\", \"Cable TV\", \"Elevator\", \"Heating...\n",
       "12    [\"Hair dryer\", \"Essentials\", \"Breakfast\", \"Ele...\n",
       "13    [\"First aid kit\", \"Body soap\", \"Microwave\", \"L...\n",
       "14    [\"First aid kit\", \"Fast wifi \\u2013 456 Mbps\",...\n",
       "15    [\"Microwave\", \"Stove\", \"Coffee maker\", \"Long t...\n",
       "16    [\"Cable TV\", \"Microwave\", \"Heating\", \"Free str...\n",
       "18    [\"First aid kit\", \"Coffee maker\", \"Gym\", \"Long...\n",
       "19    [\"First aid kit\", \"Body soap\", \"Microwave\", \"L...\n",
       "20    [\"Cable TV\", \"Elevator\", \"Heating\", \"Kitchen\",...\n",
       "21    [\"Paid parking garage off premises\", \"Luggage ...\n",
       "22    [\"Body soap\", \"Fast wifi \\u2013 113 Mbps\", \"Mi...\n",
       "23    [\"Microwave\", \"Laundromat nearby\", \"Stove\", \"C...\n",
       "24    [\"Hair dryer\", \"Breakfast\", \"Refrigerator\", \"H...\n",
       "25    [\"Microwave\", \"Stove\", \"Coffee maker\", \"Long t...\n",
       "26    [\"Essentials\", \"Iron\", \"Dedicated workspace\", ...\n",
       "27    [\"Microwave\", \"Stove\", \"Coffee maker\", \"Long t...\n",
       "28    [\"Heating\", \"TV\", \"Kitchen\", \"Free parking on ...\n",
       "29    [\"Essentials\", \"Cable TV\", \"Keypad\", \"Kitchen\"...\n",
       "30    [\"First aid kit\", \"Microwave\", \"Coffee maker\",...\n",
       "31    [\"Cable TV\", \"Refrigerator\", \"Microwave\", \"Hea...\n",
       "32    [\"First aid kit\", \"Coffee maker\", \"Gym\", \"Long...\n",
       "34    [\"Microwave\", \"Laundromat nearby\", \"Stove\", \"C...\n",
       "35    [\"Dishwasher\", \"Essentials\", \"Oven\", \"Cable TV...\n",
       "36    [\"First aid kit\", \"Microwave\", \"Laundromat nea...\n",
       "37    [\"First aid kit\", \"Body soap\", \"Microwave\", \"L...\n",
       "38    [\"Microwave\", \"Stove\", \"Coffee maker\", \"Long t...\n",
       "40    [\"Carbon monoxide alarm\", \"Cable TV\", \"Elevato...\n",
       "41    [\"Pantene  conditioner\", \"First aid kit\", \"Pou...\n",
       "42    [\"Microwave\", \"Stove\", \"Long term stays allowe...\n",
       "43    [\"Iron\", \"Cable TV\", \"Lock on bedroom door\", \"...\n",
       "44    [\"Microwave\", \"Laundromat nearby\", \"Stove\", \"L...\n",
       "Name: amenities, dtype: object"
      ]
     },
     "execution_count": 82,
     "metadata": {},
     "output_type": "execute_result"
    }
   ],
   "source": [
    "df['amenities'].head(40)"
   ]
  },
  {
   "cell_type": "code",
   "execution_count": 83,
   "metadata": {},
   "outputs": [],
   "source": [
    "def elevator_checker(row):\n",
    "    if 'elevator' in row.lower():\n",
    "        return 1\n",
    "    else:\n",
    "        return 0"
   ]
  },
  {
   "cell_type": "code",
   "execution_count": 84,
   "metadata": {},
   "outputs": [],
   "source": [
    "def dedicated_workspace_checker(row):\n",
    "    if 'workspace' in row.lower():\n",
    "        return 1\n",
    "    else:\n",
    "        return 0"
   ]
  },
  {
   "cell_type": "code",
   "execution_count": 85,
   "metadata": {},
   "outputs": [],
   "source": [
    "def wifi_checker(row):\n",
    "    \"\"\"Checks to see if 'wifi' is listed in the ammeneties column. \n",
    "    Returns a 1 if True, Otherwise 0\"\"\"\n",
    "    if 'wifi' in row.lower():\n",
    "        return 1\n",
    "    else:\n",
    "        return 0\n",
    "    "
   ]
  },
  {
   "cell_type": "code",
   "execution_count": 86,
   "metadata": {},
   "outputs": [],
   "source": [
    "def gym_checker(row):\n",
    "    '''Checks to see if 'gym' is listed in the ammeneties column. \n",
    "    Returns a 1 if True, Otherwise 0\"\"\"\n",
    "    '''\n",
    "    if \"gym\" in row.lower():\n",
    "        return 1\n",
    "    else:\n",
    "        return 0"
   ]
  },
  {
   "cell_type": "code",
   "execution_count": 87,
   "metadata": {},
   "outputs": [],
   "source": [
    "def long_term_checker(row):\n",
    "    \"\"\"Checks to see if 'long term stays allowed' is listed in the ammeneties column. \n",
    "    Returns a 1 if True, Otherwise 0\"\"\"\n",
    "    if 'long term stays allow' in row.lower():\n",
    "        return 1\n",
    "    else:\n",
    "        return 0\n"
   ]
  },
  {
   "cell_type": "code",
   "execution_count": 88,
   "metadata": {},
   "outputs": [],
   "source": [
    "def parking_checker(row):\n",
    "    '''Checks to see if 'parking' is listed in the ammeneties column. \n",
    "    Returns a 1 if True, Otherwise 0'''\n",
    "    if 'parking' in row.lower():\n",
    "        return 1\n",
    "    else:\n",
    "        return 0"
   ]
  },
  {
   "cell_type": "code",
   "execution_count": 89,
   "metadata": {},
   "outputs": [],
   "source": [
    "def laundy_checker(row):\n",
    "    if 'laundr' in row.lower():\n",
    "        return 1\n",
    "    else:\n",
    "        return 0"
   ]
  },
  {
   "cell_type": "code",
   "execution_count": 90,
   "metadata": {},
   "outputs": [],
   "source": [
    "def cable_checker(row):\n",
    "    if 'cable' in row.lower():\n",
    "        return 1\n",
    "    else:\n",
    "        return 0"
   ]
  },
  {
   "cell_type": "code",
   "execution_count": 91,
   "metadata": {},
   "outputs": [],
   "source": [
    "df['elevator'] = df['amenities'].apply(elevator_checker)"
   ]
  },
  {
   "cell_type": "code",
   "execution_count": 92,
   "metadata": {},
   "outputs": [],
   "source": [
    "df['wifi'] = df['amenities'].apply(wifi_checker)"
   ]
  },
  {
   "cell_type": "code",
   "execution_count": 93,
   "metadata": {},
   "outputs": [
    {
     "data": {
      "text/plain": [
       "1    34284\n",
       "0      760\n",
       "Name: wifi, dtype: int64"
      ]
     },
     "execution_count": 93,
     "metadata": {},
     "output_type": "execute_result"
    }
   ],
   "source": [
    "df['wifi'].value_counts()"
   ]
  },
  {
   "cell_type": "code",
   "execution_count": 94,
   "metadata": {},
   "outputs": [],
   "source": [
    "df['gym'] = df['amenities'].apply(gym_checker)"
   ]
  },
  {
   "cell_type": "code",
   "execution_count": 95,
   "metadata": {},
   "outputs": [
    {
     "data": {
      "text/plain": [
       "0    31691\n",
       "1     3353\n",
       "Name: gym, dtype: int64"
      ]
     },
     "execution_count": 95,
     "metadata": {},
     "output_type": "execute_result"
    }
   ],
   "source": [
    "df['gym'].value_counts()"
   ]
  },
  {
   "cell_type": "code",
   "execution_count": 96,
   "metadata": {},
   "outputs": [],
   "source": [
    "df['parking'] = df['amenities'].apply(parking_checker)"
   ]
  },
  {
   "cell_type": "code",
   "execution_count": 97,
   "metadata": {},
   "outputs": [
    {
     "data": {
      "text/plain": [
       "1    17860\n",
       "0    17184\n",
       "Name: parking, dtype: int64"
      ]
     },
     "execution_count": 97,
     "metadata": {},
     "output_type": "execute_result"
    }
   ],
   "source": [
    "df['parking'].value_counts()"
   ]
  },
  {
   "cell_type": "code",
   "execution_count": 98,
   "metadata": {},
   "outputs": [],
   "source": [
    "df['long_term_stays_allowed'] = df['amenities'].apply(long_term_checker)"
   ]
  },
  {
   "cell_type": "code",
   "execution_count": 99,
   "metadata": {},
   "outputs": [
    {
     "data": {
      "text/plain": [
       "1    31705\n",
       "0     3339\n",
       "Name: long_term_stays_allowed, dtype: int64"
      ]
     },
     "execution_count": 99,
     "metadata": {},
     "output_type": "execute_result"
    }
   ],
   "source": [
    "df['long_term_stays_allowed'].value_counts()"
   ]
  },
  {
   "cell_type": "code",
   "execution_count": 100,
   "metadata": {},
   "outputs": [],
   "source": [
    "df['dedicated_worksapce'] = df['amenities'].apply(dedicated_workspace_checker)"
   ]
  },
  {
   "cell_type": "code",
   "execution_count": 101,
   "metadata": {},
   "outputs": [
    {
     "data": {
      "text/plain": [
       "0    22313\n",
       "1    12731\n",
       "Name: dedicated_worksapce, dtype: int64"
      ]
     },
     "execution_count": 101,
     "metadata": {},
     "output_type": "execute_result"
    }
   ],
   "source": [
    "df['dedicated_worksapce'].value_counts()"
   ]
  },
  {
   "cell_type": "code",
   "execution_count": 102,
   "metadata": {},
   "outputs": [],
   "source": [
    "df['laundry'] = df['amenities'].apply(laundy_checker)"
   ]
  },
  {
   "cell_type": "code",
   "execution_count": 103,
   "metadata": {},
   "outputs": [
    {
     "data": {
      "text/plain": [
       "0    27933\n",
       "1     7111\n",
       "Name: laundry, dtype: int64"
      ]
     },
     "execution_count": 103,
     "metadata": {},
     "output_type": "execute_result"
    }
   ],
   "source": [
    "df['laundry'].value_counts()"
   ]
  },
  {
   "cell_type": "code",
   "execution_count": 104,
   "metadata": {},
   "outputs": [],
   "source": [
    "df['cable'] = df['amenities'].apply(cable_checker)"
   ]
  },
  {
   "cell_type": "code",
   "execution_count": 105,
   "metadata": {},
   "outputs": [
    {
     "data": {
      "text/plain": [
       "0    28800\n",
       "1     6244\n",
       "Name: cable, dtype: int64"
      ]
     },
     "execution_count": 105,
     "metadata": {},
     "output_type": "execute_result"
    }
   ],
   "source": [
    "df['cable'].value_counts()"
   ]
  },
  {
   "cell_type": "code",
   "execution_count": 106,
   "metadata": {},
   "outputs": [],
   "source": [
    "df = df.drop('amenities', axis=1)"
   ]
  },
  {
   "cell_type": "code",
   "execution_count": 107,
   "metadata": {},
   "outputs": [
    {
     "data": {
      "text/plain": [
       "shared_baths                  -0.193994\n",
       "Private room in rental unit   -0.179638\n",
       "booked_out_of_30              -0.156244\n",
       "booked_out_of_60              -0.133568\n",
       "booked_out_of_90              -0.122925\n",
       "                                 ...   \n",
       "gym                            0.145864\n",
       "beds                           0.277194\n",
       "bedrooms                       0.277194\n",
       "accommodates                   0.321033\n",
       "price                          1.000000\n",
       "Name: price, Length: 201, dtype: float64"
      ]
     },
     "execution_count": 107,
     "metadata": {},
     "output_type": "execute_result"
    }
   ],
   "source": [
    "df.corr()['price'].sort_values()"
   ]
  },
  {
   "cell_type": "code",
   "execution_count": 108,
   "metadata": {},
   "outputs": [
    {
     "data": {
      "text/plain": [
       "(35044, 201)"
      ]
     },
     "execution_count": 108,
     "metadata": {},
     "output_type": "execute_result"
    }
   ],
   "source": [
    "df.shape"
   ]
  },
  {
   "attachments": {},
   "cell_type": "markdown",
   "metadata": {},
   "source": [
    "### Train Test Split"
   ]
  },
  {
   "cell_type": "code",
   "execution_count": 109,
   "metadata": {},
   "outputs": [],
   "source": [
    "X = df.drop('price', axis=1)\n",
    "y = df['price']"
   ]
  },
  {
   "cell_type": "code",
   "execution_count": 110,
   "metadata": {},
   "outputs": [],
   "source": [
    "from sklearn.model_selection import train_test_split"
   ]
  },
  {
   "cell_type": "code",
   "execution_count": 111,
   "metadata": {},
   "outputs": [],
   "source": [
    "X_train, X_test, y_train, y_test = train_test_split(X,y, test_size=0.30)"
   ]
  },
  {
   "attachments": {},
   "cell_type": "markdown",
   "metadata": {},
   "source": [
    "### Scaling the Data"
   ]
  },
  {
   "cell_type": "code",
   "execution_count": 112,
   "metadata": {},
   "outputs": [],
   "source": [
    "from sklearn.preprocessing import MinMaxScaler"
   ]
  },
  {
   "cell_type": "code",
   "execution_count": 113,
   "metadata": {},
   "outputs": [],
   "source": [
    "scaler = MinMaxScaler()"
   ]
  },
  {
   "cell_type": "code",
   "execution_count": 114,
   "metadata": {},
   "outputs": [],
   "source": [
    "X_train = scaler.fit_transform(X_train)"
   ]
  },
  {
   "cell_type": "code",
   "execution_count": 115,
   "metadata": {},
   "outputs": [],
   "source": [
    "X_test =scaler.fit_transform(X_test)"
   ]
  },
  {
   "cell_type": "code",
   "execution_count": 116,
   "metadata": {},
   "outputs": [
    {
     "data": {
      "text/plain": [
       "(24530, 200)"
      ]
     },
     "execution_count": 116,
     "metadata": {},
     "output_type": "execute_result"
    }
   ],
   "source": [
    "X_train.shape"
   ]
  },
  {
   "cell_type": "code",
   "execution_count": 117,
   "metadata": {},
   "outputs": [
    {
     "data": {
      "text/plain": [
       "(10514, 200)"
      ]
     },
     "execution_count": 117,
     "metadata": {},
     "output_type": "execute_result"
    }
   ],
   "source": [
    "X_test.shape"
   ]
  },
  {
   "attachments": {},
   "cell_type": "markdown",
   "metadata": {},
   "source": [
    "### Creating the First Model"
   ]
  },
  {
   "cell_type": "code",
   "execution_count": 118,
   "metadata": {},
   "outputs": [],
   "source": [
    "from tensorflow.keras.models import Sequential\n",
    "from tensorflow.keras.layers import Dense, Activation, Dropout\n",
    "from tensorflow.keras.optimizers import Adam"
   ]
  },
  {
   "cell_type": "code",
   "execution_count": 119,
   "metadata": {},
   "outputs": [],
   "source": [
    "model = Sequential()"
   ]
  },
  {
   "cell_type": "code",
   "execution_count": 120,
   "metadata": {},
   "outputs": [],
   "source": [
    "model = Sequential()\n",
    "\n",
    "model.add(Dense(201,activation='relu'))\n",
    "\n",
    "\n",
    "model.add(Dense(101,activation='relu'))\n",
    "\n",
    "\n",
    "model.add(Dense(1))\n",
    "\n",
    "model.compile(optimizer='adam',loss='mse')"
   ]
  },
  {
   "cell_type": "code",
   "execution_count": 121,
   "metadata": {},
   "outputs": [
    {
     "name": "stdout",
     "output_type": "stream",
     "text": [
      "Epoch 1/20\n",
      "192/192 [==============================] - 1s 3ms/step - loss: 110572.4141 - val_loss: 170761.1562\n",
      "Epoch 2/20\n",
      "192/192 [==============================] - 0s 2ms/step - loss: 86385.7188 - val_loss: 158831.9688\n",
      "Epoch 3/20\n",
      "192/192 [==============================] - 0s 2ms/step - loss: 80381.6328 - val_loss: 154622.9844\n",
      "Epoch 4/20\n",
      "192/192 [==============================] - 0s 2ms/step - loss: 77369.8672 - val_loss: 153889.7344\n",
      "Epoch 5/20\n",
      "192/192 [==============================] - 0s 2ms/step - loss: 75822.5781 - val_loss: 153055.5000\n",
      "Epoch 6/20\n",
      "192/192 [==============================] - 0s 2ms/step - loss: 75009.4609 - val_loss: 152951.3594\n",
      "Epoch 7/20\n",
      "192/192 [==============================] - 0s 2ms/step - loss: 74159.3828 - val_loss: 151354.2969\n",
      "Epoch 8/20\n",
      "192/192 [==============================] - 0s 2ms/step - loss: 73567.4453 - val_loss: 151062.6875\n",
      "Epoch 9/20\n",
      "192/192 [==============================] - 0s 2ms/step - loss: 73079.6641 - val_loss: 151932.2031\n",
      "Epoch 10/20\n",
      "192/192 [==============================] - 0s 2ms/step - loss: 72586.6875 - val_loss: 151329.2969\n",
      "Epoch 11/20\n",
      "192/192 [==============================] - 0s 2ms/step - loss: 72197.6797 - val_loss: 151711.1094\n",
      "Epoch 12/20\n",
      "192/192 [==============================] - 0s 2ms/step - loss: 71791.0859 - val_loss: 151273.9062\n",
      "Epoch 13/20\n",
      "192/192 [==============================] - 0s 2ms/step - loss: 71458.1094 - val_loss: 149538.2500\n",
      "Epoch 14/20\n",
      "192/192 [==============================] - 0s 2ms/step - loss: 71229.9844 - val_loss: 150624.7188\n",
      "Epoch 15/20\n",
      "192/192 [==============================] - 0s 2ms/step - loss: 70699.2266 - val_loss: 149215.0156\n",
      "Epoch 16/20\n",
      "192/192 [==============================] - 0s 2ms/step - loss: 70351.7578 - val_loss: 148140.0469\n",
      "Epoch 17/20\n",
      "192/192 [==============================] - 0s 2ms/step - loss: 70029.6328 - val_loss: 148411.3281\n",
      "Epoch 18/20\n",
      "192/192 [==============================] - 0s 2ms/step - loss: 69690.1328 - val_loss: 149010.5312\n",
      "Epoch 19/20\n",
      "192/192 [==============================] - 0s 2ms/step - loss: 69247.8438 - val_loss: 150853.2500\n",
      "Epoch 20/20\n",
      "192/192 [==============================] - 0s 2ms/step - loss: 69050.1328 - val_loss: 148642.4531\n"
     ]
    },
    {
     "data": {
      "text/plain": [
       "<keras.callbacks.History at 0x246c203ab90>"
      ]
     },
     "execution_count": 121,
     "metadata": {},
     "output_type": "execute_result"
    }
   ],
   "source": [
    "model.fit(x=X_train, y=y_train, validation_data=(X_test, y_test), batch_size=128, epochs=20)"
   ]
  },
  {
   "cell_type": "markdown",
   "metadata": {},
   "source": []
  },
  {
   "cell_type": "code",
   "execution_count": 122,
   "metadata": {},
   "outputs": [
    {
     "data": {
      "text/plain": [
       "<AxesSubplot: >"
      ]
     },
     "execution_count": 122,
     "metadata": {},
     "output_type": "execute_result"
    },
    {
     "data": {
      "image/png": "[encoded data removed]",
      "text/plain": [
       "<Figure size 640x480 with 1 Axes>"
      ]
     },
     "metadata": {},
     "output_type": "display_data"
    }
   ],
   "source": [
    "losses = pd.DataFrame(model.history.history)\n",
    "losses.plot()"
   ]
  },
  {
   "cell_type": "code",
   "execution_count": 123,
   "metadata": {},
   "outputs": [],
   "source": [
    "from sklearn.metrics import mean_squared_error,mean_absolute_error,explained_variance_score"
   ]
  },
  {
   "cell_type": "code",
   "execution_count": 124,
   "metadata": {},
   "outputs": [
    {
     "name": "stdout",
     "output_type": "stream",
     "text": [
      "329/329 [==============================] - 0s 775us/step\n"
     ]
    }
   ],
   "source": [
    "predictions = model.predict(X_test)"
   ]
  },
  {
   "cell_type": "code",
   "execution_count": 125,
   "metadata": {},
   "outputs": [
    {
     "data": {
      "text/plain": [
       "98.13739029527142"
      ]
     },
     "execution_count": 125,
     "metadata": {},
     "output_type": "execute_result"
    }
   ],
   "source": [
    "mean_absolute_error(y_test, predictions)"
   ]
  },
  {
   "cell_type": "code",
   "execution_count": 126,
   "metadata": {},
   "outputs": [
    {
     "data": {
      "text/plain": [
       "385.54175639364576"
      ]
     },
     "execution_count": 126,
     "metadata": {},
     "output_type": "execute_result"
    }
   ],
   "source": [
    "np.sqrt(mean_squared_error(y_test,predictions))"
   ]
  },
  {
   "cell_type": "code",
   "execution_count": 127,
   "metadata": {},
   "outputs": [
    {
     "data": {
      "text/plain": [
       "0.18790303628421046"
      ]
     },
     "execution_count": 127,
     "metadata": {},
     "output_type": "execute_result"
    }
   ],
   "source": [
    "explained_variance_score(y_test,predictions)"
   ]
  },
  {
   "cell_type": "code",
   "execution_count": 128,
   "metadata": {},
   "outputs": [
    {
     "data": {
      "text/plain": [
       "197.50793288437393"
      ]
     },
     "execution_count": 128,
     "metadata": {},
     "output_type": "execute_result"
    }
   ],
   "source": [
    "df['price'].mean()"
   ]
  },
  {
   "cell_type": "code",
   "execution_count": 129,
   "metadata": {},
   "outputs": [
    {
     "data": {
      "text/plain": [
       "130.0"
      ]
     },
     "execution_count": 129,
     "metadata": {},
     "output_type": "execute_result"
    }
   ],
   "source": [
    "df['price'].median()"
   ]
  },
  {
   "cell_type": "code",
   "execution_count": 130,
   "metadata": {},
   "outputs": [
    {
     "data": {
      "text/plain": [
       "[<matplotlib.lines.Line2D at 0x246d36af160>]"
      ]
     },
     "execution_count": 130,
     "metadata": {},
     "output_type": "execute_result"
    },
    {
     "data": {
      "image/png": "[encoded data removed]",
      "text/plain": [
       "<Figure size 640x480 with 1 Axes>"
      ]
     },
     "metadata": {},
     "output_type": "display_data"
    }
   ],
   "source": [
    "# Our predictions\n",
    "plt.scatter(y_test,predictions)\n",
    "\n",
    "# Perfect predictions\n",
    "plt.plot(y_test,y_test,'r')"
   ]
  },
  {
   "attachments": {},
   "cell_type": "markdown",
   "metadata": {},
   "source": [
    "It looks like the vast majority of listings are less than $2000 per night and a few outliers are skewing the performance of our model."
   ]
  },
  {
   "cell_type": "code",
   "execution_count": null,
   "metadata": {},
   "outputs": [],
   "source": []
  },
  {
   "cell_type": "code",
   "execution_count": 131,
   "metadata": {},
   "outputs": [],
   "source": [
    "errors = y_test.values.reshape(10514, 1) - predictions"
   ]
  },
  {
   "cell_type": "code",
   "execution_count": 132,
   "metadata": {},
   "outputs": [
    {
     "name": "stderr",
     "output_type": "stream",
     "text": [
      "C:\\Users\\riley\\AppData\\Local\\Temp\\ipykernel_5520\\2392254718.py:1: UserWarning: \n",
      "\n",
      "`distplot` is a deprecated function and will be removed in seaborn v0.14.0.\n",
      "\n",
      "Please adapt your code to use either `displot` (a figure-level function with\n",
      "similar flexibility) or `histplot` (an axes-level function for histograms).\n",
      "\n",
      "For a guide to updating your code to use the new functions, please see\n",
      "https://gist.github.com/mwaskom/de44147ed2974457ad6372750bbe5751\n",
      "\n",
      "  sns.distplot(errors)\n"
     ]
    },
    {
     "data": {
      "text/plain": [
       "<AxesSubplot: ylabel='Density'>"
      ]
     },
     "execution_count": 132,
     "metadata": {},
     "output_type": "execute_result"
    },
    {
     "data": {
      "image/png": "[encoded data removed]",
      "text/plain": [
       "<Figure size 640x480 with 1 Axes>"
      ]
     },
     "metadata": {},
     "output_type": "display_data"
    }
   ],
   "source": [
    "sns.distplot(errors)"
   ]
  },
  {
   "cell_type": "code",
   "execution_count": 133,
   "metadata": {},
   "outputs": [
    {
     "data": {
      "text/plain": [
       "<AxesSubplot: xlabel='price', ylabel='Count'>"
      ]
     },
     "execution_count": 133,
     "metadata": {},
     "output_type": "execute_result"
    },
    {
     "data": {
      "image/png": "[encoded data removed]",
      "text/plain": [
       "<Figure size 640x480 with 1 Axes>"
      ]
     },
     "metadata": {},
     "output_type": "display_data"
    }
   ],
   "source": [
    "sns.histplot(data=df, x='price')"
   ]
  },
  {
   "attachments": {},
   "cell_type": "markdown",
   "metadata": {},
   "source": [
    "### Model #2\n",
    "predicting prices of listings that fall between 25 and 1000 dollars per night"
   ]
  },
  {
   "cell_type": "code",
   "execution_count": 134,
   "metadata": {},
   "outputs": [],
   "source": [
    "df_filtered  = df[df['price'] <= 1000]\n",
    "df_filtered = df_filtered[df_filtered['price']> 25]"
   ]
  },
  {
   "attachments": {},
   "cell_type": "markdown",
   "metadata": {},
   "source": [
    "Price per listings has a significant skew to the right, filtering out these outliers should greatly improve the price prediction performance of the model"
   ]
  },
  {
   "cell_type": "code",
   "execution_count": 135,
   "metadata": {},
   "outputs": [
    {
     "data": {
      "text/plain": [
       "1000.0"
      ]
     },
     "execution_count": 135,
     "metadata": {},
     "output_type": "execute_result"
    }
   ],
   "source": [
    "df_filtered['price'].max()"
   ]
  },
  {
   "cell_type": "code",
   "execution_count": 136,
   "metadata": {},
   "outputs": [
    {
     "data": {
      "text/plain": [
       "150.0    977\n",
       "100.0    850\n",
       "200.0    773\n",
       "50.0     672\n",
       "60.0     654\n",
       "75.0     654\n",
       "80.0     648\n",
       "70.0     595\n",
       "65.0     559\n",
       "120.0    546\n",
       "90.0     530\n",
       "250.0    529\n",
       "125.0    480\n",
       "55.0     476\n",
       "85.0     446\n",
       "175.0    437\n",
       "45.0     426\n",
       "40.0     385\n",
       "99.0     362\n",
       "95.0     357\n",
       "130.0    356\n",
       "110.0    341\n",
       "300.0    336\n",
       "140.0    301\n",
       "180.0    291\n",
       "160.0    288\n",
       "115.0    271\n",
       "225.0    270\n",
       "199.0    258\n",
       "135.0    233\n",
       "Name: price, dtype: int64"
      ]
     },
     "execution_count": 136,
     "metadata": {},
     "output_type": "execute_result"
    }
   ],
   "source": [
    "df_filtered['price'].value_counts().sort_values(ascending=False).head(30)"
   ]
  },
  {
   "cell_type": "code",
   "execution_count": 137,
   "metadata": {},
   "outputs": [
    {
     "data": {
      "text/plain": [
       "<AxesSubplot: xlabel='price', ylabel='Count'>"
      ]
     },
     "execution_count": 137,
     "metadata": {},
     "output_type": "execute_result"
    },
    {
     "data": {
      "image/png": "[encoded data removed]",
      "text/plain": [
       "<Figure size 640x480 with 1 Axes>"
      ]
     },
     "metadata": {},
     "output_type": "display_data"
    }
   ],
   "source": [
    "sns.histplot(data=df_filtered, x='price')"
   ]
  },
  {
   "attachments": {},
   "cell_type": "markdown",
   "metadata": {},
   "source": [
    "The new distribution of price/night of our dataset"
   ]
  },
  {
   "cell_type": "code",
   "execution_count": 138,
   "metadata": {},
   "outputs": [
    {
     "data": {
      "text/plain": [
       "(34520, 201)"
      ]
     },
     "execution_count": 138,
     "metadata": {},
     "output_type": "execute_result"
    }
   ],
   "source": [
    "df_filtered.shape"
   ]
  },
  {
   "cell_type": "code",
   "execution_count": 139,
   "metadata": {},
   "outputs": [],
   "source": [
    "X = df_filtered.drop('price', axis=1)\n",
    "y = df_filtered['price']"
   ]
  },
  {
   "attachments": {},
   "cell_type": "markdown",
   "metadata": {},
   "source": [
    "### Train Test Split #2"
   ]
  },
  {
   "cell_type": "code",
   "execution_count": 140,
   "metadata": {},
   "outputs": [],
   "source": [
    "from sklearn.model_selection import train_test_split"
   ]
  },
  {
   "cell_type": "code",
   "execution_count": 141,
   "metadata": {},
   "outputs": [],
   "source": [
    "X_train, X_test, y_train, y_test = train_test_split(X,y, test_size = 0.30)"
   ]
  },
  {
   "attachments": {},
   "cell_type": "markdown",
   "metadata": {},
   "source": [
    "### Scaling the Data #2"
   ]
  },
  {
   "cell_type": "code",
   "execution_count": 142,
   "metadata": {},
   "outputs": [],
   "source": [
    "from sklearn.preprocessing import MinMaxScaler"
   ]
  },
  {
   "cell_type": "code",
   "execution_count": 143,
   "metadata": {},
   "outputs": [],
   "source": [
    "scaler = MinMaxScaler()"
   ]
  },
  {
   "cell_type": "code",
   "execution_count": 144,
   "metadata": {},
   "outputs": [],
   "source": [
    "X_train = scaler.fit_transform(X_train)"
   ]
  },
  {
   "cell_type": "code",
   "execution_count": 145,
   "metadata": {},
   "outputs": [],
   "source": [
    "X_test = scaler.fit_transform(X_test)"
   ]
  },
  {
   "attachments": {},
   "cell_type": "markdown",
   "metadata": {},
   "source": [
    "### Model Creation #2"
   ]
  },
  {
   "cell_type": "code",
   "execution_count": 146,
   "metadata": {},
   "outputs": [],
   "source": [
    "from tensorflow.keras.models import Sequential\n",
    "from tensorflow.keras.layers import Dense, Activation, Dropout\n",
    "from tensorflow.keras.optimizers import Adam"
   ]
  },
  {
   "cell_type": "code",
   "execution_count": 147,
   "metadata": {},
   "outputs": [
    {
     "data": {
      "text/plain": [
       "(24164, 200)"
      ]
     },
     "execution_count": 147,
     "metadata": {},
     "output_type": "execute_result"
    }
   ],
   "source": [
    "X_train.shape"
   ]
  },
  {
   "cell_type": "code",
   "execution_count": 148,
   "metadata": {},
   "outputs": [
    {
     "data": {
      "text/plain": [
       "(10356, 200)"
      ]
     },
     "execution_count": 148,
     "metadata": {},
     "output_type": "execute_result"
    }
   ],
   "source": [
    "X_test.shape"
   ]
  },
  {
   "cell_type": "code",
   "execution_count": 149,
   "metadata": {},
   "outputs": [],
   "source": [
    "model = Sequential()\n",
    "\n",
    "model.add(Dense(200,activation='relu'))\n",
    "model.add(Dropout(0.2))\n",
    "\n",
    "model.add(Dense(100,activation='relu'))\n",
    "model.add(Dropout(0.2))\n",
    "\n",
    "model.add(Dense(1))\n",
    "\n",
    "model.compile(optimizer='adam',loss='mse')"
   ]
  },
  {
   "cell_type": "code",
   "execution_count": 150,
   "metadata": {},
   "outputs": [
    {
     "name": "stdout",
     "output_type": "stream",
     "text": [
      "Epoch 1/15\n",
      "189/189 [==============================] - 1s 4ms/step - loss: 26311.3574 - val_loss: 13449.4277\n",
      "Epoch 2/15\n",
      "189/189 [==============================] - 1s 3ms/step - loss: 12097.0762 - val_loss: 10437.2344\n",
      "Epoch 3/15\n",
      "189/189 [==============================] - 1s 3ms/step - loss: 10345.5986 - val_loss: 9685.5986\n",
      "Epoch 4/15\n",
      "189/189 [==============================] - 1s 3ms/step - loss: 9786.7031 - val_loss: 9281.1992\n",
      "Epoch 5/15\n",
      "189/189 [==============================] - 1s 3ms/step - loss: 9564.9121 - val_loss: 9117.8496\n",
      "Epoch 6/15\n",
      "189/189 [==============================] - 1s 3ms/step - loss: 9356.3115 - val_loss: 8974.9443\n",
      "Epoch 7/15\n",
      "189/189 [==============================] - 1s 3ms/step - loss: 9320.0557 - val_loss: 8926.4590\n",
      "Epoch 8/15\n",
      "189/189 [==============================] - 1s 3ms/step - loss: 9243.0596 - val_loss: 8838.6553\n",
      "Epoch 9/15\n",
      "189/189 [==============================] - 1s 3ms/step - loss: 9088.6221 - val_loss: 8833.4170\n",
      "Epoch 10/15\n",
      "189/189 [==============================] - 1s 3ms/step - loss: 9067.4873 - val_loss: 8723.1523\n",
      "Epoch 11/15\n",
      "189/189 [==============================] - 1s 3ms/step - loss: 8991.5088 - val_loss: 8658.0430\n",
      "Epoch 12/15\n",
      "189/189 [==============================] - 1s 4ms/step - loss: 8883.5664 - val_loss: 8706.9004\n",
      "Epoch 13/15\n",
      "189/189 [==============================] - 1s 5ms/step - loss: 8879.4639 - val_loss: 8816.0654\n",
      "Epoch 14/15\n",
      "189/189 [==============================] - 1s 5ms/step - loss: 8849.7568 - val_loss: 8897.6895\n",
      "Epoch 15/15\n",
      "189/189 [==============================] - 1s 5ms/step - loss: 8760.7002 - val_loss: 8515.3174\n"
     ]
    },
    {
     "data": {
      "text/plain": [
       "<keras.callbacks.History at 0x246b88601c0>"
      ]
     },
     "execution_count": 150,
     "metadata": {},
     "output_type": "execute_result"
    }
   ],
   "source": [
    "model.fit(x=X_train, y=y_train, validation_data=(X_test, y_test), batch_size=128, epochs=15)"
   ]
  },
  {
   "cell_type": "code",
   "execution_count": 151,
   "metadata": {},
   "outputs": [
    {
     "data": {
      "text/plain": [
       "<AxesSubplot: >"
      ]
     },
     "execution_count": 151,
     "metadata": {},
     "output_type": "execute_result"
    },
    {
     "data": {
      "image/png": "[encoded data removed]",
      "text/plain": [
       "<Figure size 640x480 with 1 Axes>"
      ]
     },
     "metadata": {},
     "output_type": "display_data"
    }
   ],
   "source": [
    "losses = pd.DataFrame(model.history.history)\n",
    "losses.plot()"
   ]
  },
  {
   "cell_type": "code",
   "execution_count": 152,
   "metadata": {},
   "outputs": [],
   "source": [
    "from sklearn.metrics import mean_squared_error,mean_absolute_error,explained_variance_score"
   ]
  },
  {
   "cell_type": "code",
   "execution_count": 153,
   "metadata": {},
   "outputs": [
    {
     "name": "stdout",
     "output_type": "stream",
     "text": [
      "324/324 [==============================] - 1s 1ms/step\n"
     ]
    }
   ],
   "source": [
    "predictions = model.predict(X_test)"
   ]
  },
  {
   "cell_type": "code",
   "execution_count": 154,
   "metadata": {},
   "outputs": [
    {
     "data": {
      "text/plain": [
       "54.930391814641716"
      ]
     },
     "execution_count": 154,
     "metadata": {},
     "output_type": "execute_result"
    }
   ],
   "source": [
    "mean_absolute_error(y_test, predictions)"
   ]
  },
  {
   "cell_type": "code",
   "execution_count": 155,
   "metadata": {},
   "outputs": [
    {
     "data": {
      "text/plain": [
       "92.2784815312068"
      ]
     },
     "execution_count": 155,
     "metadata": {},
     "output_type": "execute_result"
    }
   ],
   "source": [
    "np.sqrt(mean_squared_error(y_test,predictions))"
   ]
  },
  {
   "cell_type": "code",
   "execution_count": 156,
   "metadata": {},
   "outputs": [
    {
     "data": {
      "text/plain": [
       "0.5868399107816304"
      ]
     },
     "execution_count": 156,
     "metadata": {},
     "output_type": "execute_result"
    }
   ],
   "source": [
    "explained_variance_score(y_test,predictions)"
   ]
  },
  {
   "cell_type": "code",
   "execution_count": 157,
   "metadata": {},
   "outputs": [
    {
     "data": {
      "text/plain": [
       "173.37479721900348"
      ]
     },
     "execution_count": 157,
     "metadata": {},
     "output_type": "execute_result"
    }
   ],
   "source": [
    "df_filtered['price'].mean()"
   ]
  },
  {
   "cell_type": "code",
   "execution_count": 158,
   "metadata": {},
   "outputs": [
    {
     "data": {
      "text/plain": [
       "128.0"
      ]
     },
     "execution_count": 158,
     "metadata": {},
     "output_type": "execute_result"
    }
   ],
   "source": [
    "df_filtered['price'].median()"
   ]
  },
  {
   "cell_type": "code",
   "execution_count": 159,
   "metadata": {},
   "outputs": [
    {
     "data": {
      "text/plain": [
       "[<matplotlib.lines.Line2D at 0x246c3183d60>]"
      ]
     },
     "execution_count": 159,
     "metadata": {},
     "output_type": "execute_result"
    },
    {
     "data": {
      "image/png": "[encoded data removed]",
      "text/plain": [
       "<Figure size 640x480 with 1 Axes>"
      ]
     },
     "metadata": {},
     "output_type": "display_data"
    }
   ],
   "source": [
    "# Our predictions\n",
    "plt.scatter(y_test,predictions)\n",
    "\n",
    "# Perfect predictions\n",
    "plt.plot(y_test,y_test,'r')"
   ]
  },
  {
   "cell_type": "code",
   "execution_count": 160,
   "metadata": {},
   "outputs": [
    {
     "ename": "ValueError",
     "evalue": "cannot reshape array of size 10356 into shape (10368,1)",
     "output_type": "error",
     "traceback": [
      "\u001b[1;31m---------------------------------------------------------------------------\u001b[0m",
      "\u001b[1;31mValueError\u001b[0m                                Traceback (most recent call last)",
      "Cell \u001b[1;32mIn [160], line 1\u001b[0m\n\u001b[1;32m----> 1\u001b[0m errors \u001b[39m=\u001b[39m y_test\u001b[39m.\u001b[39;49mvalues\u001b[39m.\u001b[39;49mreshape(\u001b[39m10368\u001b[39;49m, \u001b[39m1\u001b[39;49m) \u001b[39m-\u001b[39m predictions\n",
      "\u001b[1;31mValueError\u001b[0m: cannot reshape array of size 10356 into shape (10368,1)"
     ]
    }
   ],
   "source": [
    "errors = y_test.values.reshape(10368, 1) - predictions"
   ]
  },
  {
   "cell_type": "code",
   "execution_count": null,
   "metadata": {},
   "outputs": [
    {
     "name": "stderr",
     "output_type": "stream",
     "text": [
      "C:\\Users\\riley\\AppData\\Local\\Temp\\ipykernel_13344\\2392254718.py:1: UserWarning: \n",
      "\n",
      "`distplot` is a deprecated function and will be removed in seaborn v0.14.0.\n",
      "\n",
      "Please adapt your code to use either `displot` (a figure-level function with\n",
      "similar flexibility) or `histplot` (an axes-level function for histograms).\n",
      "\n",
      "For a guide to updating your code to use the new functions, please see\n",
      "https://gist.github.com/mwaskom/de44147ed2974457ad6372750bbe5751\n",
      "\n",
      "  sns.distplot(errors)\n"
     ]
    },
    {
     "data": {
      "text/plain": [
       "<AxesSubplot: ylabel='Density'>"
      ]
     },
     "execution_count": 158,
     "metadata": {},
     "output_type": "execute_result"
    },
    {
     "data": {
      "image/png": "[encoded data removed]",
      "text/plain": [
       "<Figure size 640x480 with 1 Axes>"
      ]
     },
     "metadata": {},
     "output_type": "display_data"
    }
   ],
   "source": [
    "sns.distplot(errors)"
   ]
  },
  {
   "cell_type": "code",
   "execution_count": null,
   "metadata": {},
   "outputs": [
    {
     "data": {
      "text/plain": [
       "count    34560.000000\n",
       "mean       171.473495\n",
       "std        142.752440\n",
       "min         11.000000\n",
       "25%         75.000000\n",
       "50%        127.000000\n",
       "75%        212.000000\n",
       "max        999.000000\n",
       "Name: price, dtype: float64"
      ]
     },
     "execution_count": 159,
     "metadata": {},
     "output_type": "execute_result"
    }
   ],
   "source": [
    "df_filtered['price'].describe()"
   ]
  },
  {
   "cell_type": "code",
   "execution_count": null,
   "metadata": {},
   "outputs": [],
   "source": [
    "df_filtered2 = df_filtered[df_filtered[\"price\"] <= 600]\n",
    "df_filtered2 = df_filtered2[df_filtered2['price'] >= 25]"
   ]
  },
  {
   "cell_type": "code",
   "execution_count": null,
   "metadata": {},
   "outputs": [
    {
     "data": {
      "text/plain": [
       "13002     25.0\n",
       "9925      25.0\n",
       "23712     25.0\n",
       "11904     25.0\n",
       "24717     25.0\n",
       "         ...  \n",
       "33045    600.0\n",
       "23336    600.0\n",
       "23354    600.0\n",
       "20501    600.0\n",
       "38115    600.0\n",
       "Name: price, Length: 33752, dtype: float64"
      ]
     },
     "execution_count": 161,
     "metadata": {},
     "output_type": "execute_result"
    }
   ],
   "source": [
    "df_filtered2['price'].sort_values()"
   ]
  },
  {
   "cell_type": "code",
   "execution_count": null,
   "metadata": {},
   "outputs": [
    {
     "data": {
      "text/plain": [
       "<AxesSubplot: xlabel='price', ylabel='Count'>"
      ]
     },
     "execution_count": 162,
     "metadata": {},
     "output_type": "execute_result"
    },
    {
     "data": {
      "image/png": "[encoded data removed]",
      "text/plain": [
       "<Figure size 640x480 with 1 Axes>"
      ]
     },
     "metadata": {},
     "output_type": "display_data"
    }
   ],
   "source": [
    "sns.histplot(data=df_filtered2, x='price')"
   ]
  },
  {
   "cell_type": "code",
   "execution_count": null,
   "metadata": {},
   "outputs": [
    {
     "data": {
      "text/plain": [
       "(33752, 201)"
      ]
     },
     "execution_count": 163,
     "metadata": {},
     "output_type": "execute_result"
    }
   ],
   "source": [
    "df_filtered2.shape"
   ]
  },
  {
   "cell_type": "code",
   "execution_count": null,
   "metadata": {},
   "outputs": [],
   "source": [
    "X = df_filtered2.drop('price', axis=1)\n",
    "y = df_filtered2['price']"
   ]
  },
  {
   "cell_type": "code",
   "execution_count": null,
   "metadata": {},
   "outputs": [],
   "source": [
    "from sklearn.model_selection import train_test_split"
   ]
  },
  {
   "cell_type": "code",
   "execution_count": null,
   "metadata": {},
   "outputs": [],
   "source": [
    "X_train, X_test, y_train, y_test = train_test_split(X,y,test_size=0.30)"
   ]
  },
  {
   "cell_type": "code",
   "execution_count": null,
   "metadata": {},
   "outputs": [],
   "source": [
    "from sklearn.preprocessing import MinMaxScaler"
   ]
  },
  {
   "cell_type": "code",
   "execution_count": null,
   "metadata": {},
   "outputs": [],
   "source": [
    "scaler = MinMaxScaler()"
   ]
  },
  {
   "cell_type": "code",
   "execution_count": null,
   "metadata": {},
   "outputs": [],
   "source": [
    "X_train = scaler.fit_transform(X_train)"
   ]
  },
  {
   "cell_type": "code",
   "execution_count": null,
   "metadata": {},
   "outputs": [],
   "source": [
    "X_test = scaler.fit_transform(X_test)"
   ]
  },
  {
   "cell_type": "code",
   "execution_count": null,
   "metadata": {},
   "outputs": [],
   "source": [
    "from tensorflow.keras.models import Sequential\n",
    "from tensorflow.keras.layers import Dense, Activation, Dropout\n",
    "from tensorflow.keras.optimizers import Adam"
   ]
  },
  {
   "cell_type": "code",
   "execution_count": null,
   "metadata": {},
   "outputs": [
    {
     "data": {
      "text/plain": [
       "(23626, 200)"
      ]
     },
     "execution_count": 172,
     "metadata": {},
     "output_type": "execute_result"
    }
   ],
   "source": [
    "X_train.shape"
   ]
  },
  {
   "cell_type": "code",
   "execution_count": null,
   "metadata": {},
   "outputs": [
    {
     "data": {
      "text/plain": [
       "(10126, 200)"
      ]
     },
     "execution_count": 173,
     "metadata": {},
     "output_type": "execute_result"
    }
   ],
   "source": [
    "X_test.shape"
   ]
  },
  {
   "cell_type": "code",
   "execution_count": null,
   "metadata": {},
   "outputs": [],
   "source": [
    "model = Sequential()\n",
    "\n",
    "model.add(Dense(200,activation='relu'))\n",
    "model.add(Dropout(0.2))\n",
    "\n",
    "model.add(Dense(100,activation='relu'))\n",
    "model.add(Dropout(0.2))\n",
    "\n",
    "model.add(Dense(1))\n",
    "\n",
    "model.compile(optimizer='adam',loss='mse')"
   ]
  },
  {
   "cell_type": "code",
   "execution_count": null,
   "metadata": {},
   "outputs": [],
   "source": [
    " #from tensorflow.keras.callbacks import EarlyStopping"
   ]
  },
  {
   "cell_type": "code",
   "execution_count": null,
   "metadata": {},
   "outputs": [],
   "source": [
    "#early_stop = EarlyStopping(monitor='val_loss', mode='min', verbose=1, patience=5)"
   ]
  },
  {
   "cell_type": "code",
   "execution_count": null,
   "metadata": {},
   "outputs": [
    {
     "name": "stdout",
     "output_type": "stream",
     "text": [
      "Epoch 1/17\n",
      "185/185 [==============================] - 1s 3ms/step - loss: 17013.1328 - val_loss: 7352.5840\n",
      "Epoch 2/17\n",
      "185/185 [==============================] - 1s 3ms/step - loss: 6380.9668 - val_loss: 5610.3071\n",
      "Epoch 3/17\n",
      "185/185 [==============================] - 1s 3ms/step - loss: 5502.5166 - val_loss: 5124.1396\n",
      "Epoch 4/17\n",
      "185/185 [==============================] - 1s 3ms/step - loss: 5208.1719 - val_loss: 4938.2217\n",
      "Epoch 5/17\n",
      "185/185 [==============================] - 1s 3ms/step - loss: 5078.0972 - val_loss: 4844.1895\n",
      "Epoch 6/17\n",
      "185/185 [==============================] - 1s 3ms/step - loss: 4998.4893 - val_loss: 5022.9482\n",
      "Epoch 7/17\n",
      "185/185 [==============================] - 1s 3ms/step - loss: 4975.0352 - val_loss: 4812.1328\n",
      "Epoch 8/17\n",
      "185/185 [==============================] - 1s 3ms/step - loss: 4867.7212 - val_loss: 4713.7383\n",
      "Epoch 9/17\n",
      "185/185 [==============================] - 1s 3ms/step - loss: 4857.1006 - val_loss: 4684.7793\n",
      "Epoch 10/17\n",
      "185/185 [==============================] - 1s 3ms/step - loss: 4821.3892 - val_loss: 4667.2666\n",
      "Epoch 11/17\n",
      "185/185 [==============================] - 1s 3ms/step - loss: 4789.1025 - val_loss: 4657.3662\n",
      "Epoch 12/17\n",
      "185/185 [==============================] - 1s 3ms/step - loss: 4763.8813 - val_loss: 4641.0698\n",
      "Epoch 13/17\n",
      "185/185 [==============================] - 1s 3ms/step - loss: 4755.8271 - val_loss: 4610.6655\n",
      "Epoch 14/17\n",
      "185/185 [==============================] - 1s 3ms/step - loss: 4704.8677 - val_loss: 4578.6528\n",
      "Epoch 15/17\n",
      "185/185 [==============================] - 1s 3ms/step - loss: 4670.6719 - val_loss: 4533.3721\n",
      "Epoch 16/17\n",
      "185/185 [==============================] - 1s 3ms/step - loss: 4596.9546 - val_loss: 4536.9829\n",
      "Epoch 17/17\n",
      "185/185 [==============================] - 1s 3ms/step - loss: 4564.6001 - val_loss: 4514.0024\n"
     ]
    },
    {
     "data": {
      "text/plain": [
       "<keras.callbacks.History at 0x190b6056590>"
      ]
     },
     "execution_count": 177,
     "metadata": {},
     "output_type": "execute_result"
    }
   ],
   "source": [
    "model.fit(x=X_train, \n",
    "          y=y_train, \n",
    "          epochs=17,\n",
    "          batch_size = 128,\n",
    "          validation_data=(X_test, y_test),\n",
    "          #callbacks=[early_stop]\n",
    "          )"
   ]
  },
  {
   "cell_type": "code",
   "execution_count": null,
   "metadata": {},
   "outputs": [
    {
     "data": {
      "text/plain": [
       "<AxesSubplot: >"
      ]
     },
     "execution_count": 178,
     "metadata": {},
     "output_type": "execute_result"
    },
    {
     "data": {
      "image/png": "[encoded data removed]",
      "text/plain": [
       "<Figure size 640x480 with 1 Axes>"
      ]
     },
     "metadata": {},
     "output_type": "display_data"
    }
   ],
   "source": [
    "losses = pd.DataFrame(model.history.history)\n",
    "losses.plot()"
   ]
  },
  {
   "cell_type": "code",
   "execution_count": null,
   "metadata": {},
   "outputs": [],
   "source": [
    "from sklearn.metrics import mean_squared_error,mean_absolute_error,explained_variance_score"
   ]
  },
  {
   "cell_type": "code",
   "execution_count": null,
   "metadata": {},
   "outputs": [
    {
     "name": "stdout",
     "output_type": "stream",
     "text": [
      "317/317 [==============================] - 0s 875us/step\n"
     ]
    }
   ],
   "source": [
    "predictions = model.predict(X_test)"
   ]
  },
  {
   "cell_type": "code",
   "execution_count": null,
   "metadata": {},
   "outputs": [
    {
     "data": {
      "text/plain": [
       "44.72529328474527"
      ]
     },
     "execution_count": 181,
     "metadata": {},
     "output_type": "execute_result"
    }
   ],
   "source": [
    "mean_absolute_error(y_test, predictions)"
   ]
  },
  {
   "cell_type": "code",
   "execution_count": null,
   "metadata": {},
   "outputs": [
    {
     "data": {
      "text/plain": [
       "67.18632833113509"
      ]
     },
     "execution_count": 182,
     "metadata": {},
     "output_type": "execute_result"
    }
   ],
   "source": [
    "np.sqrt(mean_squared_error(y_test,predictions))"
   ]
  },
  {
   "cell_type": "code",
   "execution_count": null,
   "metadata": {},
   "outputs": [
    {
     "data": {
      "text/plain": [
       "0.6506116328772591"
      ]
     },
     "execution_count": 183,
     "metadata": {},
     "output_type": "execute_result"
    }
   ],
   "source": [
    "explained_variance_score(y_test,predictions)"
   ]
  },
  {
   "cell_type": "code",
   "execution_count": null,
   "metadata": {},
   "outputs": [
    {
     "data": {
      "text/plain": [
       "159.01599905190804"
      ]
     },
     "execution_count": 184,
     "metadata": {},
     "output_type": "execute_result"
    }
   ],
   "source": [
    "df_filtered2['price'].mean()"
   ]
  },
  {
   "cell_type": "code",
   "execution_count": null,
   "metadata": {},
   "outputs": [
    {
     "data": {
      "text/plain": [
       "125.0"
      ]
     },
     "execution_count": 185,
     "metadata": {},
     "output_type": "execute_result"
    }
   ],
   "source": [
    "df_filtered2['price'].median()"
   ]
  },
  {
   "cell_type": "code",
   "execution_count": null,
   "metadata": {},
   "outputs": [
    {
     "data": {
      "text/plain": [
       "[<matplotlib.lines.Line2D at 0x190bc21f7f0>]"
      ]
     },
     "execution_count": 186,
     "metadata": {},
     "output_type": "execute_result"
    },
    {
     "data": {
      "image/png": "[encoded data removed]",
      "text/plain": [
       "<Figure size 640x480 with 1 Axes>"
      ]
     },
     "metadata": {},
     "output_type": "display_data"
    }
   ],
   "source": [
    "# Our predictions\n",
    "plt.scatter(y_test,predictions)\n",
    "\n",
    "# Perfect predictions\n",
    "plt.plot(y_test,y_test,'r')"
   ]
  },
  {
   "cell_type": "code",
   "execution_count": null,
   "metadata": {},
   "outputs": [],
   "source": [
    "errors = y_test.values.reshape(10126, 1) - predictions"
   ]
  },
  {
   "cell_type": "code",
   "execution_count": null,
   "metadata": {},
   "outputs": [
    {
     "name": "stderr",
     "output_type": "stream",
     "text": [
      "C:\\Users\\riley\\AppData\\Local\\Temp\\ipykernel_13344\\2392254718.py:1: UserWarning: \n",
      "\n",
      "`distplot` is a deprecated function and will be removed in seaborn v0.14.0.\n",
      "\n",
      "Please adapt your code to use either `displot` (a figure-level function with\n",
      "similar flexibility) or `histplot` (an axes-level function for histograms).\n",
      "\n",
      "For a guide to updating your code to use the new functions, please see\n",
      "https://gist.github.com/mwaskom/de44147ed2974457ad6372750bbe5751\n",
      "\n",
      "  sns.distplot(errors)\n"
     ]
    },
    {
     "data": {
      "text/plain": [
       "<AxesSubplot: ylabel='Density'>"
      ]
     },
     "execution_count": 189,
     "metadata": {},
     "output_type": "execute_result"
    },
    {
     "data": {
      "image/png": "[encoded data removed]",
      "text/plain": [
       "<Figure size 640x480 with 1 Axes>"
      ]
     },
     "metadata": {},
     "output_type": "display_data"
    }
   ],
   "source": [
    "sns.distplot(errors)"
   ]
  },
  {
   "cell_type": "code",
   "execution_count": null,
   "metadata": {},
   "outputs": [],
   "source": []
  }
 ],
 "metadata": {
  "kernelspec": {
   "display_name": "Python 3",
   "language": "python",
   "name": "python3"
  },
  "language_info": {
   "codemirror_mode": {
    "name": "ipython",
    "version": 3
   },
   "file_extension": ".py",
   "mimetype": "text/x-python",
   "name": "python",
   "nbconvert_exporter": "python",
   "pygments_lexer": "ipython3",
   "version": "3.10.8"
  },
  "orig_nbformat": 4,
  "vscode": {
   "interpreter": {
    "hash": "33febbe59e7517fc06e98238e12b853a1218524b250409038e378007b13131b1"
   }
  }
 },
 "nbformat": 4,
 "nbformat_minor": 2
}
